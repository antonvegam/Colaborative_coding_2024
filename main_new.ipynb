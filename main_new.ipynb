{
 "cells": [
  {
   "cell_type": "markdown",
   "id": "faa843e0",
   "metadata": {},
   "source": [
    "Collaborative coding using GitHub\n",
    "===========\n",
    "\n",
    "Olivia Gawel, Sarah Phuong and Antón Vega\n",
    "\n",
    "January 11th 2024\n"
   ]
  },
  {
   "cell_type": "markdown",
   "id": "ca45050a",
   "metadata": {},
   "source": [
    "# Goal\n",
    "\n",
    "The objective of this assignment is to construct a project through collaborative coding, showcasing an Exploratory Data Analysis (EDA) and a classification. To facilitate your understanding of GitHub, we will utilize code snippets from previous exercises, allowing you to focus on the process without concerns about the final outcome. The current notebook will serve as the main function in the project, and each participant is required to develop additional components and integrate their contributions into the main branch.\n",
    "\n",
    "\n",
    "## Requirements\n",
    "\n",
    "In order to work with functions created in other jupyter notebooks you need to install the package `nbimporter` using a shell and the following command:\n",
    "\n",
    "<font color='grey'>pip install nbimporter</font> \n",
    "\n",
    "`nbimporter` allows you to import jupyter notebooks as modules. Once intalled and imported, you can use a command like the following to import a function called *fibonacci* that is stored on a notebook *fibbo_func* in the same path as the present notebook:\n",
    "\n",
    "<font color='green'>from</font> fibbo_func <font color='green'>import</font> fibbonaci  <font color='green'>as</font> fibbo\n",
    "\n"
   ]
  },
  {
   "cell_type": "code",
   "execution_count": 1,
   "id": "6c4c08a6",
   "metadata": {},
   "outputs": [],
   "source": [
    "## Modify this cell by importing all the necessary modules you need to solve the assigmnent. Observe that we are importing\n",
    "## the library nbimporter. You will need it for calling fuctions created in other notebooks. \n",
    "import nbimporter\n",
    "import pandas as pd\n",
    "\n"
   ]
  },
  {
   "cell_type": "markdown",
   "id": "df55ac13",
   "metadata": {},
   "source": [
    "## Exercises\n",
    "As an illustration of Git workflow, you will analyze the *Parkinson's* dataset, which has been previously examined in past assignments. Each team member has specific responsibilities that may be crucial for the progress of others. Make sure all of you organize your tasks accordingly. We've structured the analysis into modules to assist you in tracking your tasks, but feel free to deviate from it if you prefer.   \n",
    "Please use Markdown cells for describing your workflow and expalining the findings of your work. \n",
    "Remember you need both, to modify this notebook and, to create additional functions outside. Your work will only be available for others when you modify and merge your changes.\n"
   ]
  },
  {
   "cell_type": "code",
   "execution_count": 2,
   "id": "69721a8f",
   "metadata": {},
   "outputs": [
    {
     "data": {
      "text/html": [
       "<div>\n",
       "<style scoped>\n",
       "    .dataframe tbody tr th:only-of-type {\n",
       "        vertical-align: middle;\n",
       "    }\n",
       "\n",
       "    .dataframe tbody tr th {\n",
       "        vertical-align: top;\n",
       "    }\n",
       "\n",
       "    .dataframe thead th {\n",
       "        text-align: right;\n",
       "    }\n",
       "</style>\n",
       "<table border=\"1\" class=\"dataframe\">\n",
       "  <thead>\n",
       "    <tr style=\"text-align: right;\">\n",
       "      <th></th>\n",
       "      <th>name</th>\n",
       "      <th>MDVP:Fo(Hz)</th>\n",
       "      <th>MDVP:Fhi(Hz)</th>\n",
       "      <th>MDVP:Flo(Hz)</th>\n",
       "      <th>MDVP:Jitter(%)</th>\n",
       "      <th>MDVP:Jitter(Abs)</th>\n",
       "      <th>MDVP:RAP</th>\n",
       "      <th>MDVP:PPQ</th>\n",
       "      <th>Jitter:DDP</th>\n",
       "      <th>MDVP:Shimmer</th>\n",
       "      <th>...</th>\n",
       "      <th>Shimmer:DDA</th>\n",
       "      <th>NHR</th>\n",
       "      <th>HNR</th>\n",
       "      <th>status</th>\n",
       "      <th>RPDE</th>\n",
       "      <th>DFA</th>\n",
       "      <th>spread1</th>\n",
       "      <th>spread2</th>\n",
       "      <th>D2</th>\n",
       "      <th>PPE</th>\n",
       "    </tr>\n",
       "  </thead>\n",
       "  <tbody>\n",
       "    <tr>\n",
       "      <th>0</th>\n",
       "      <td>phon_R01_S01_1</td>\n",
       "      <td>119.992</td>\n",
       "      <td>157.302</td>\n",
       "      <td>74.997</td>\n",
       "      <td>0.00784</td>\n",
       "      <td>0.00007</td>\n",
       "      <td>0.00370</td>\n",
       "      <td>0.00554</td>\n",
       "      <td>0.01109</td>\n",
       "      <td>0.04374</td>\n",
       "      <td>...</td>\n",
       "      <td>0.06545</td>\n",
       "      <td>0.02211</td>\n",
       "      <td>21.033</td>\n",
       "      <td>1</td>\n",
       "      <td>0.414783</td>\n",
       "      <td>0.815285</td>\n",
       "      <td>-4.813031</td>\n",
       "      <td>0.266482</td>\n",
       "      <td>2.301442</td>\n",
       "      <td>0.284654</td>\n",
       "    </tr>\n",
       "    <tr>\n",
       "      <th>1</th>\n",
       "      <td>phon_R01_S01_2</td>\n",
       "      <td>122.400</td>\n",
       "      <td>148.650</td>\n",
       "      <td>113.819</td>\n",
       "      <td>0.00968</td>\n",
       "      <td>0.00008</td>\n",
       "      <td>0.00465</td>\n",
       "      <td>0.00696</td>\n",
       "      <td>0.01394</td>\n",
       "      <td>0.06134</td>\n",
       "      <td>...</td>\n",
       "      <td>0.09403</td>\n",
       "      <td>0.01929</td>\n",
       "      <td>19.085</td>\n",
       "      <td>1</td>\n",
       "      <td>0.458359</td>\n",
       "      <td>0.819521</td>\n",
       "      <td>-4.075192</td>\n",
       "      <td>0.335590</td>\n",
       "      <td>2.486855</td>\n",
       "      <td>0.368674</td>\n",
       "    </tr>\n",
       "    <tr>\n",
       "      <th>2</th>\n",
       "      <td>phon_R01_S01_3</td>\n",
       "      <td>116.682</td>\n",
       "      <td>131.111</td>\n",
       "      <td>111.555</td>\n",
       "      <td>0.01050</td>\n",
       "      <td>0.00009</td>\n",
       "      <td>0.00544</td>\n",
       "      <td>0.00781</td>\n",
       "      <td>0.01633</td>\n",
       "      <td>0.05233</td>\n",
       "      <td>...</td>\n",
       "      <td>0.08270</td>\n",
       "      <td>0.01309</td>\n",
       "      <td>20.651</td>\n",
       "      <td>1</td>\n",
       "      <td>0.429895</td>\n",
       "      <td>0.825288</td>\n",
       "      <td>-4.443179</td>\n",
       "      <td>0.311173</td>\n",
       "      <td>2.342259</td>\n",
       "      <td>0.332634</td>\n",
       "    </tr>\n",
       "    <tr>\n",
       "      <th>3</th>\n",
       "      <td>phon_R01_S01_4</td>\n",
       "      <td>116.676</td>\n",
       "      <td>137.871</td>\n",
       "      <td>111.366</td>\n",
       "      <td>0.00997</td>\n",
       "      <td>0.00009</td>\n",
       "      <td>0.00502</td>\n",
       "      <td>0.00698</td>\n",
       "      <td>0.01505</td>\n",
       "      <td>0.05492</td>\n",
       "      <td>...</td>\n",
       "      <td>0.08771</td>\n",
       "      <td>0.01353</td>\n",
       "      <td>20.644</td>\n",
       "      <td>1</td>\n",
       "      <td>0.434969</td>\n",
       "      <td>0.819235</td>\n",
       "      <td>-4.117501</td>\n",
       "      <td>0.334147</td>\n",
       "      <td>2.405554</td>\n",
       "      <td>0.368975</td>\n",
       "    </tr>\n",
       "    <tr>\n",
       "      <th>4</th>\n",
       "      <td>phon_R01_S01_5</td>\n",
       "      <td>116.014</td>\n",
       "      <td>141.781</td>\n",
       "      <td>110.655</td>\n",
       "      <td>0.01284</td>\n",
       "      <td>0.00011</td>\n",
       "      <td>0.00655</td>\n",
       "      <td>0.00908</td>\n",
       "      <td>0.01966</td>\n",
       "      <td>0.06425</td>\n",
       "      <td>...</td>\n",
       "      <td>0.10470</td>\n",
       "      <td>0.01767</td>\n",
       "      <td>19.649</td>\n",
       "      <td>1</td>\n",
       "      <td>0.417356</td>\n",
       "      <td>0.823484</td>\n",
       "      <td>-3.747787</td>\n",
       "      <td>0.234513</td>\n",
       "      <td>2.332180</td>\n",
       "      <td>0.410335</td>\n",
       "    </tr>\n",
       "  </tbody>\n",
       "</table>\n",
       "<p>5 rows × 24 columns</p>\n",
       "</div>"
      ],
      "text/plain": [
       "             name  MDVP:Fo(Hz)  MDVP:Fhi(Hz)  MDVP:Flo(Hz)  MDVP:Jitter(%)  \\\n",
       "0  phon_R01_S01_1      119.992       157.302        74.997         0.00784   \n",
       "1  phon_R01_S01_2      122.400       148.650       113.819         0.00968   \n",
       "2  phon_R01_S01_3      116.682       131.111       111.555         0.01050   \n",
       "3  phon_R01_S01_4      116.676       137.871       111.366         0.00997   \n",
       "4  phon_R01_S01_5      116.014       141.781       110.655         0.01284   \n",
       "\n",
       "   MDVP:Jitter(Abs)  MDVP:RAP  MDVP:PPQ  Jitter:DDP  MDVP:Shimmer  ...  \\\n",
       "0           0.00007   0.00370   0.00554     0.01109       0.04374  ...   \n",
       "1           0.00008   0.00465   0.00696     0.01394       0.06134  ...   \n",
       "2           0.00009   0.00544   0.00781     0.01633       0.05233  ...   \n",
       "3           0.00009   0.00502   0.00698     0.01505       0.05492  ...   \n",
       "4           0.00011   0.00655   0.00908     0.01966       0.06425  ...   \n",
       "\n",
       "   Shimmer:DDA      NHR     HNR  status      RPDE       DFA   spread1  \\\n",
       "0      0.06545  0.02211  21.033       1  0.414783  0.815285 -4.813031   \n",
       "1      0.09403  0.01929  19.085       1  0.458359  0.819521 -4.075192   \n",
       "2      0.08270  0.01309  20.651       1  0.429895  0.825288 -4.443179   \n",
       "3      0.08771  0.01353  20.644       1  0.434969  0.819235 -4.117501   \n",
       "4      0.10470  0.01767  19.649       1  0.417356  0.823484 -3.747787   \n",
       "\n",
       "    spread2        D2       PPE  \n",
       "0  0.266482  2.301442  0.284654  \n",
       "1  0.335590  2.486855  0.368674  \n",
       "2  0.311173  2.342259  0.332634  \n",
       "3  0.334147  2.405554  0.368975  \n",
       "4  0.234513  2.332180  0.410335  \n",
       "\n",
       "[5 rows x 24 columns]"
      ]
     },
     "execution_count": 2,
     "metadata": {},
     "output_type": "execute_result"
    }
   ],
   "source": [
    "# We will start by loading the parkinson dataset. The rest is up to you!\n",
    "df = pd.read_csv('parkinsons.data', \n",
    "                 dtype = { # indicate categorical variables\n",
    "                     'status': 'category'})\n",
    "df.head(5)"
   ]
  },
  {
   "cell_type": "code",
   "execution_count": 4,
   "id": "f60848d7",
   "metadata": {},
   "outputs": [
    {
     "data": {
      "text/plain": [
       "(195, 24)"
      ]
     },
     "execution_count": 4,
     "metadata": {},
     "output_type": "execute_result"
    }
   ],
   "source": [
    "df.shape"
   ]
  },
  {
   "cell_type": "code",
   "execution_count": 3,
   "id": "552cc36e",
   "metadata": {},
   "outputs": [
    {
     "data": {
      "text/plain": [
       "['name',\n",
       " 'MDVP:Fo(Hz)',\n",
       " 'MDVP:Fhi(Hz)',\n",
       " 'MDVP:Flo(Hz)',\n",
       " 'MDVP:Jitter(%)',\n",
       " 'MDVP:Jitter(Abs)',\n",
       " 'MDVP:RAP',\n",
       " 'MDVP:PPQ',\n",
       " 'Jitter:DDP',\n",
       " 'MDVP:Shimmer',\n",
       " 'MDVP:Shimmer(dB)',\n",
       " 'Shimmer:APQ3',\n",
       " 'Shimmer:APQ5',\n",
       " 'MDVP:APQ',\n",
       " 'Shimmer:DDA',\n",
       " 'NHR',\n",
       " 'HNR',\n",
       " 'status',\n",
       " 'RPDE',\n",
       " 'DFA',\n",
       " 'spread1',\n",
       " 'spread2',\n",
       " 'D2',\n",
       " 'PPE']"
      ]
     },
     "execution_count": 3,
     "metadata": {},
     "output_type": "execute_result"
    }
   ],
   "source": [
    "list(df.columns.values)"
   ]
  },
  {
   "cell_type": "markdown",
   "id": "83461200",
   "metadata": {},
   "source": [
    "The above are names of columns that have varied characters, adn are hard to read. This is the reason why we need to clean and tidy the dataset, and create clear column names."
   ]
  },
  {
   "cell_type": "markdown",
   "id": "fad76fe3",
   "metadata": {},
   "source": [
    "### **1. Cleaning and tidying the dataset**"
   ]
  },
  {
   "cell_type": "markdown",
   "id": "99e30873",
   "metadata": {},
   "source": [
    "This dataset entails information about Parkinson's subjects (n=31). Each column in the table is a particular voice measure, and each row corresponds to one of 195 voice recordings from 31 individuals that were tested."
   ]
  },
  {
   "cell_type": "code",
   "execution_count": 4,
   "id": "f3ef94ae",
   "metadata": {},
   "outputs": [
    {
     "name": "stdout",
     "output_type": "stream",
     "text": [
      "             name     avFF    maxFF    minFF  percJitter  absJitter      rap  \\\n",
      "0  phon_R01_S01_1  119.992  157.302   74.997     0.00784    0.00007  0.00370   \n",
      "1  phon_R01_S01_2  122.400  148.650  113.819     0.00968    0.00008  0.00465   \n",
      "2  phon_R01_S01_3  116.682  131.111  111.555     0.01050    0.00009  0.00544   \n",
      "\n",
      "       ppq      ddp  lShimer  ...      dda      NHR     HNR  status      RPDE  \\\n",
      "0  0.00554  0.01109  0.04374  ...  0.06545  0.02211  21.033       1  0.414783   \n",
      "1  0.00696  0.01394  0.06134  ...  0.09403  0.01929  19.085       1  0.458359   \n",
      "2  0.00781  0.01633  0.05233  ...  0.08270  0.01309  20.651       1  0.429895   \n",
      "\n",
      "        DFA   spread1   spread2        D2       PPE  \n",
      "0  0.815285 -4.813031  0.266482  2.301442  0.284654  \n",
      "1  0.819521 -4.075192  0.335590  2.486855  0.368674  \n",
      "2  0.825288 -4.443179  0.311173  2.342259  0.332634  \n",
      "\n",
      "[3 rows x 24 columns]\n"
     ]
    }
   ],
   "source": [
    "\n",
    "# Define the renamevars function\n",
    "def renamevars(df, dict_names):\n",
    "    return df.rename(columns=dict_names)\n",
    "\n",
    "# established names of all columns we have and which need renaming\n",
    "dict_names = {\n",
    "    'MDVP:Fo(Hz)': 'avFF',\n",
    "    'MDVP:Fhi(Hz)': 'maxFF', \n",
    "    'MDVP:Flo(Hz)': 'minFF',\n",
    "    'MDVP:Jitter(%)': 'percJitter',\n",
    "    'MDVP:Jitter(Abs)': 'absJitter',\n",
    "    'MDVP:RAP': 'rap',\n",
    "    'MDVP:PPQ': 'ppq',\n",
    "    'Jitter:DDP': 'ddp',\n",
    "    'MDVP:Shimmer': 'lShimer',\n",
    "    'MDVP:Shimmer(dB)': 'dbShimer',\n",
    "    'Shimmer:APQ3': 'apq3',\n",
    "    'Shimmer:APQ5': 'apq5',\n",
    "    'MDVP:APQ': 'apq',\n",
    "    'Shimmer:DDA': 'dda'\n",
    "}\n",
    "\n",
    "# loading dataset\n",
    "file_path = 'parkinsons.data'\n",
    "parkinsons_df = pd.read_csv(file_path)\n",
    "\n",
    "# applying the renamevars function to the parkinsons dataset with the specified column name changes\n",
    "renamed_parkinsons_df = renamevars(parkinsons_df, dict_names)\n",
    "\n",
    "print(renamed_parkinsons_df.head(3))"
   ]
  },
  {
   "cell_type": "code",
   "execution_count": 5,
   "id": "3ada59fe",
   "metadata": {},
   "outputs": [
    {
     "data": {
      "text/html": [
       "<div>\n",
       "<style scoped>\n",
       "    .dataframe tbody tr th:only-of-type {\n",
       "        vertical-align: middle;\n",
       "    }\n",
       "\n",
       "    .dataframe tbody tr th {\n",
       "        vertical-align: top;\n",
       "    }\n",
       "\n",
       "    .dataframe thead th {\n",
       "        text-align: right;\n",
       "    }\n",
       "</style>\n",
       "<table border=\"1\" class=\"dataframe\">\n",
       "  <thead>\n",
       "    <tr style=\"text-align: right;\">\n",
       "      <th></th>\n",
       "      <th>subject_id</th>\n",
       "      <th>trial_count</th>\n",
       "    </tr>\n",
       "  </thead>\n",
       "  <tbody>\n",
       "    <tr>\n",
       "      <th>0</th>\n",
       "      <td>S01</td>\n",
       "      <td>6</td>\n",
       "    </tr>\n",
       "    <tr>\n",
       "      <th>1</th>\n",
       "      <td>S02</td>\n",
       "      <td>6</td>\n",
       "    </tr>\n",
       "    <tr>\n",
       "      <th>2</th>\n",
       "      <td>S04</td>\n",
       "      <td>6</td>\n",
       "    </tr>\n",
       "    <tr>\n",
       "      <th>3</th>\n",
       "      <td>S05</td>\n",
       "      <td>6</td>\n",
       "    </tr>\n",
       "    <tr>\n",
       "      <th>4</th>\n",
       "      <td>S06</td>\n",
       "      <td>6</td>\n",
       "    </tr>\n",
       "    <tr>\n",
       "      <th>5</th>\n",
       "      <td>S07</td>\n",
       "      <td>6</td>\n",
       "    </tr>\n",
       "    <tr>\n",
       "      <th>6</th>\n",
       "      <td>S08</td>\n",
       "      <td>6</td>\n",
       "    </tr>\n",
       "    <tr>\n",
       "      <th>7</th>\n",
       "      <td>S10</td>\n",
       "      <td>6</td>\n",
       "    </tr>\n",
       "    <tr>\n",
       "      <th>8</th>\n",
       "      <td>S13</td>\n",
       "      <td>6</td>\n",
       "    </tr>\n",
       "    <tr>\n",
       "      <th>9</th>\n",
       "      <td>S16</td>\n",
       "      <td>6</td>\n",
       "    </tr>\n",
       "  </tbody>\n",
       "</table>\n",
       "</div>"
      ],
      "text/plain": [
       "  subject_id  trial_count\n",
       "0        S01            6\n",
       "1        S02            6\n",
       "2        S04            6\n",
       "3        S05            6\n",
       "4        S06            6\n",
       "5        S07            6\n",
       "6        S08            6\n",
       "7        S10            6\n",
       "8        S13            6\n",
       "9        S16            6"
      ]
     },
     "execution_count": 5,
     "metadata": {},
     "output_type": "execute_result"
    }
   ],
   "source": [
    "# Now we have to splitting the 'name' column into separate components\n",
    "aux = renamed_parkinsons_df.name.str.split('_', expand=True)\n",
    "\n",
    "# dropping the first 2 columns as they are not needed (names and average FF)\n",
    "aux.drop(aux.columns[[0, 1]], axis=1, inplace=True)\n",
    "\n",
    "# renaming the remaining columns for better interpretation\n",
    "aux.columns = ['subject_id', 'trial']\n",
    "\n",
    "# adding these new columns back to the original DataFrame\n",
    "renamed_parkinsons_df['subject_id'] = aux['subject_id']\n",
    "renamed_parkinsons_df['trial'] = aux['trial']\n",
    "\n",
    "# grouping by subject_id to count the number of trials per subject\n",
    "summary = renamed_parkinsons_df.groupby('subject_id')['trial'].count().reset_index()\n",
    "summary.columns = ['subject_id', 'trial_count']\n",
    "\n",
    "# summary display\n",
    "summary.head(10)\n"
   ]
  },
  {
   "cell_type": "code",
   "execution_count": 6,
   "id": "47f65a4f",
   "metadata": {},
   "outputs": [
    {
     "data": {
      "text/html": [
       "<div>\n",
       "<style scoped>\n",
       "    .dataframe tbody tr th:only-of-type {\n",
       "        vertical-align: middle;\n",
       "    }\n",
       "\n",
       "    .dataframe tbody tr th {\n",
       "        vertical-align: top;\n",
       "    }\n",
       "\n",
       "    .dataframe thead th {\n",
       "        text-align: right;\n",
       "    }\n",
       "</style>\n",
       "<table border=\"1\" class=\"dataframe\">\n",
       "  <thead>\n",
       "    <tr style=\"text-align: right;\">\n",
       "      <th></th>\n",
       "      <th>name</th>\n",
       "      <th>avFF</th>\n",
       "      <th>maxFF</th>\n",
       "      <th>minFF</th>\n",
       "      <th>percJitter</th>\n",
       "      <th>absJitter</th>\n",
       "      <th>rap</th>\n",
       "      <th>ppq</th>\n",
       "      <th>ddp</th>\n",
       "      <th>lShimer</th>\n",
       "      <th>...</th>\n",
       "      <th>HNR</th>\n",
       "      <th>status</th>\n",
       "      <th>RPDE</th>\n",
       "      <th>DFA</th>\n",
       "      <th>spread1</th>\n",
       "      <th>spread2</th>\n",
       "      <th>D2</th>\n",
       "      <th>PPE</th>\n",
       "      <th>subject_id</th>\n",
       "      <th>trial</th>\n",
       "    </tr>\n",
       "  </thead>\n",
       "  <tbody>\n",
       "    <tr>\n",
       "      <th>0</th>\n",
       "      <td>phon_R01_S01_1</td>\n",
       "      <td>119.992</td>\n",
       "      <td>157.302</td>\n",
       "      <td>74.997</td>\n",
       "      <td>0.00784</td>\n",
       "      <td>0.00007</td>\n",
       "      <td>0.00370</td>\n",
       "      <td>0.00554</td>\n",
       "      <td>0.01109</td>\n",
       "      <td>0.04374</td>\n",
       "      <td>...</td>\n",
       "      <td>21.033</td>\n",
       "      <td>1</td>\n",
       "      <td>0.414783</td>\n",
       "      <td>0.815285</td>\n",
       "      <td>-4.813031</td>\n",
       "      <td>0.266482</td>\n",
       "      <td>2.301442</td>\n",
       "      <td>0.284654</td>\n",
       "      <td>S01</td>\n",
       "      <td>1</td>\n",
       "    </tr>\n",
       "    <tr>\n",
       "      <th>1</th>\n",
       "      <td>phon_R01_S01_2</td>\n",
       "      <td>122.400</td>\n",
       "      <td>148.650</td>\n",
       "      <td>113.819</td>\n",
       "      <td>0.00968</td>\n",
       "      <td>0.00008</td>\n",
       "      <td>0.00465</td>\n",
       "      <td>0.00696</td>\n",
       "      <td>0.01394</td>\n",
       "      <td>0.06134</td>\n",
       "      <td>...</td>\n",
       "      <td>19.085</td>\n",
       "      <td>1</td>\n",
       "      <td>0.458359</td>\n",
       "      <td>0.819521</td>\n",
       "      <td>-4.075192</td>\n",
       "      <td>0.335590</td>\n",
       "      <td>2.486855</td>\n",
       "      <td>0.368674</td>\n",
       "      <td>S01</td>\n",
       "      <td>2</td>\n",
       "    </tr>\n",
       "  </tbody>\n",
       "</table>\n",
       "<p>2 rows × 26 columns</p>\n",
       "</div>"
      ],
      "text/plain": [
       "             name     avFF    maxFF    minFF  percJitter  absJitter      rap  \\\n",
       "0  phon_R01_S01_1  119.992  157.302   74.997     0.00784    0.00007  0.00370   \n",
       "1  phon_R01_S01_2  122.400  148.650  113.819     0.00968    0.00008  0.00465   \n",
       "\n",
       "       ppq      ddp  lShimer  ...     HNR  status      RPDE       DFA  \\\n",
       "0  0.00554  0.01109  0.04374  ...  21.033       1  0.414783  0.815285   \n",
       "1  0.00696  0.01394  0.06134  ...  19.085       1  0.458359  0.819521   \n",
       "\n",
       "    spread1   spread2        D2       PPE  subject_id  trial  \n",
       "0 -4.813031  0.266482  2.301442  0.284654         S01      1  \n",
       "1 -4.075192  0.335590  2.486855  0.368674         S01      2  \n",
       "\n",
       "[2 rows x 26 columns]"
      ]
     },
     "execution_count": 6,
     "metadata": {},
     "output_type": "execute_result"
    }
   ],
   "source": [
    "renamed_parkinsons_df.head(2)"
   ]
  },
  {
   "cell_type": "code",
   "execution_count": 7,
   "id": "4825a02f",
   "metadata": {},
   "outputs": [
    {
     "name": "stdout",
     "output_type": "stream",
     "text": [
      "     maxFF    minFF  percJitter  absJitter      rap      ppq      ddp  \\\n",
      "0  157.302   74.997     0.00784    0.00007  0.00370  0.00554  0.01109   \n",
      "1  148.650  113.819     0.00968    0.00008  0.00465  0.00696  0.01394   \n",
      "2  131.111  111.555     0.01050    0.00009  0.00544  0.00781  0.01633   \n",
      "3  137.871  111.366     0.00997    0.00009  0.00502  0.00698  0.01505   \n",
      "4  141.781  110.655     0.01284    0.00011  0.00655  0.00908  0.01966   \n",
      "\n",
      "   lShimer  dbShimer     apq3  ...     HNR  status      RPDE       DFA  \\\n",
      "0  0.04374     0.426  0.02182  ...  21.033       1  0.414783  0.815285   \n",
      "1  0.06134     0.626  0.03134  ...  19.085       1  0.458359  0.819521   \n",
      "2  0.05233     0.482  0.02757  ...  20.651       1  0.429895  0.825288   \n",
      "3  0.05492     0.517  0.02924  ...  20.644       1  0.434969  0.819235   \n",
      "4  0.06425     0.584  0.03490  ...  19.649       1  0.417356  0.823484   \n",
      "\n",
      "    spread1   spread2        D2       PPE  subject_id  trial  \n",
      "0 -4.813031  0.266482  2.301442  0.284654         S01      1  \n",
      "1 -4.075192  0.335590  2.486855  0.368674         S01      2  \n",
      "2 -4.443179  0.311173  2.342259  0.332634         S01      3  \n",
      "3 -4.117501  0.334147  2.405554  0.368975         S01      4  \n",
      "4 -3.747787  0.234513  2.332180  0.410335         S01      5  \n",
      "\n",
      "[5 rows x 24 columns]\n"
     ]
    }
   ],
   "source": [
    "# drop the 'name' column and 'avFF' (this means average fundamental frequency which is not relevant for our analysis)\n",
    "renamed_parkinsons_df = renamed_parkinsons_df.drop(['name', 'avFF'], axis=1)\n",
    "\n",
    "# display the first few rows of the dataframe to confirm the columns are dropped\n",
    "print(renamed_parkinsons_df.head())"
   ]
  },
  {
   "cell_type": "code",
   "execution_count": 8,
   "id": "11ea4ab3",
   "metadata": {},
   "outputs": [
    {
     "data": {
      "text/html": [
       "<div>\n",
       "<style scoped>\n",
       "    .dataframe tbody tr th:only-of-type {\n",
       "        vertical-align: middle;\n",
       "    }\n",
       "\n",
       "    .dataframe tbody tr th {\n",
       "        vertical-align: top;\n",
       "    }\n",
       "\n",
       "    .dataframe thead th {\n",
       "        text-align: right;\n",
       "    }\n",
       "</style>\n",
       "<table border=\"1\" class=\"dataframe\">\n",
       "  <thead>\n",
       "    <tr style=\"text-align: right;\">\n",
       "      <th></th>\n",
       "      <th>maxFF</th>\n",
       "      <th>minFF</th>\n",
       "      <th>percJitter</th>\n",
       "      <th>absJitter</th>\n",
       "      <th>rap</th>\n",
       "      <th>ppq</th>\n",
       "      <th>ddp</th>\n",
       "      <th>lShimer</th>\n",
       "      <th>dbShimer</th>\n",
       "      <th>apq3</th>\n",
       "      <th>...</th>\n",
       "      <th>HNR</th>\n",
       "      <th>status</th>\n",
       "      <th>RPDE</th>\n",
       "      <th>DFA</th>\n",
       "      <th>spread1</th>\n",
       "      <th>spread2</th>\n",
       "      <th>D2</th>\n",
       "      <th>PPE</th>\n",
       "      <th>subject_id</th>\n",
       "      <th>trial</th>\n",
       "    </tr>\n",
       "  </thead>\n",
       "  <tbody>\n",
       "    <tr>\n",
       "      <th>0</th>\n",
       "      <td>157.302</td>\n",
       "      <td>74.997</td>\n",
       "      <td>0.00784</td>\n",
       "      <td>0.00007</td>\n",
       "      <td>0.00370</td>\n",
       "      <td>0.00554</td>\n",
       "      <td>0.01109</td>\n",
       "      <td>0.04374</td>\n",
       "      <td>0.426</td>\n",
       "      <td>0.02182</td>\n",
       "      <td>...</td>\n",
       "      <td>21.033</td>\n",
       "      <td>1</td>\n",
       "      <td>0.414783</td>\n",
       "      <td>0.815285</td>\n",
       "      <td>-4.813031</td>\n",
       "      <td>0.266482</td>\n",
       "      <td>2.301442</td>\n",
       "      <td>0.284654</td>\n",
       "      <td>S01</td>\n",
       "      <td>1</td>\n",
       "    </tr>\n",
       "    <tr>\n",
       "      <th>1</th>\n",
       "      <td>148.650</td>\n",
       "      <td>113.819</td>\n",
       "      <td>0.00968</td>\n",
       "      <td>0.00008</td>\n",
       "      <td>0.00465</td>\n",
       "      <td>0.00696</td>\n",
       "      <td>0.01394</td>\n",
       "      <td>0.06134</td>\n",
       "      <td>0.626</td>\n",
       "      <td>0.03134</td>\n",
       "      <td>...</td>\n",
       "      <td>19.085</td>\n",
       "      <td>1</td>\n",
       "      <td>0.458359</td>\n",
       "      <td>0.819521</td>\n",
       "      <td>-4.075192</td>\n",
       "      <td>0.335590</td>\n",
       "      <td>2.486855</td>\n",
       "      <td>0.368674</td>\n",
       "      <td>S01</td>\n",
       "      <td>2</td>\n",
       "    </tr>\n",
       "    <tr>\n",
       "      <th>2</th>\n",
       "      <td>131.111</td>\n",
       "      <td>111.555</td>\n",
       "      <td>0.01050</td>\n",
       "      <td>0.00009</td>\n",
       "      <td>0.00544</td>\n",
       "      <td>0.00781</td>\n",
       "      <td>0.01633</td>\n",
       "      <td>0.05233</td>\n",
       "      <td>0.482</td>\n",
       "      <td>0.02757</td>\n",
       "      <td>...</td>\n",
       "      <td>20.651</td>\n",
       "      <td>1</td>\n",
       "      <td>0.429895</td>\n",
       "      <td>0.825288</td>\n",
       "      <td>-4.443179</td>\n",
       "      <td>0.311173</td>\n",
       "      <td>2.342259</td>\n",
       "      <td>0.332634</td>\n",
       "      <td>S01</td>\n",
       "      <td>3</td>\n",
       "    </tr>\n",
       "    <tr>\n",
       "      <th>3</th>\n",
       "      <td>137.871</td>\n",
       "      <td>111.366</td>\n",
       "      <td>0.00997</td>\n",
       "      <td>0.00009</td>\n",
       "      <td>0.00502</td>\n",
       "      <td>0.00698</td>\n",
       "      <td>0.01505</td>\n",
       "      <td>0.05492</td>\n",
       "      <td>0.517</td>\n",
       "      <td>0.02924</td>\n",
       "      <td>...</td>\n",
       "      <td>20.644</td>\n",
       "      <td>1</td>\n",
       "      <td>0.434969</td>\n",
       "      <td>0.819235</td>\n",
       "      <td>-4.117501</td>\n",
       "      <td>0.334147</td>\n",
       "      <td>2.405554</td>\n",
       "      <td>0.368975</td>\n",
       "      <td>S01</td>\n",
       "      <td>4</td>\n",
       "    </tr>\n",
       "    <tr>\n",
       "      <th>4</th>\n",
       "      <td>141.781</td>\n",
       "      <td>110.655</td>\n",
       "      <td>0.01284</td>\n",
       "      <td>0.00011</td>\n",
       "      <td>0.00655</td>\n",
       "      <td>0.00908</td>\n",
       "      <td>0.01966</td>\n",
       "      <td>0.06425</td>\n",
       "      <td>0.584</td>\n",
       "      <td>0.03490</td>\n",
       "      <td>...</td>\n",
       "      <td>19.649</td>\n",
       "      <td>1</td>\n",
       "      <td>0.417356</td>\n",
       "      <td>0.823484</td>\n",
       "      <td>-3.747787</td>\n",
       "      <td>0.234513</td>\n",
       "      <td>2.332180</td>\n",
       "      <td>0.410335</td>\n",
       "      <td>S01</td>\n",
       "      <td>5</td>\n",
       "    </tr>\n",
       "    <tr>\n",
       "      <th>...</th>\n",
       "      <td>...</td>\n",
       "      <td>...</td>\n",
       "      <td>...</td>\n",
       "      <td>...</td>\n",
       "      <td>...</td>\n",
       "      <td>...</td>\n",
       "      <td>...</td>\n",
       "      <td>...</td>\n",
       "      <td>...</td>\n",
       "      <td>...</td>\n",
       "      <td>...</td>\n",
       "      <td>...</td>\n",
       "      <td>...</td>\n",
       "      <td>...</td>\n",
       "      <td>...</td>\n",
       "      <td>...</td>\n",
       "      <td>...</td>\n",
       "      <td>...</td>\n",
       "      <td>...</td>\n",
       "      <td>...</td>\n",
       "      <td>...</td>\n",
       "    </tr>\n",
       "    <tr>\n",
       "      <th>190</th>\n",
       "      <td>230.978</td>\n",
       "      <td>94.261</td>\n",
       "      <td>0.00459</td>\n",
       "      <td>0.00003</td>\n",
       "      <td>0.00263</td>\n",
       "      <td>0.00259</td>\n",
       "      <td>0.00790</td>\n",
       "      <td>0.04087</td>\n",
       "      <td>0.405</td>\n",
       "      <td>0.02336</td>\n",
       "      <td>...</td>\n",
       "      <td>19.517</td>\n",
       "      <td>0</td>\n",
       "      <td>0.448439</td>\n",
       "      <td>0.657899</td>\n",
       "      <td>-6.538586</td>\n",
       "      <td>0.121952</td>\n",
       "      <td>2.657476</td>\n",
       "      <td>0.133050</td>\n",
       "      <td>S50</td>\n",
       "      <td>2</td>\n",
       "    </tr>\n",
       "    <tr>\n",
       "      <th>191</th>\n",
       "      <td>253.017</td>\n",
       "      <td>89.488</td>\n",
       "      <td>0.00564</td>\n",
       "      <td>0.00003</td>\n",
       "      <td>0.00331</td>\n",
       "      <td>0.00292</td>\n",
       "      <td>0.00994</td>\n",
       "      <td>0.02751</td>\n",
       "      <td>0.263</td>\n",
       "      <td>0.01604</td>\n",
       "      <td>...</td>\n",
       "      <td>19.147</td>\n",
       "      <td>0</td>\n",
       "      <td>0.431674</td>\n",
       "      <td>0.683244</td>\n",
       "      <td>-6.195325</td>\n",
       "      <td>0.129303</td>\n",
       "      <td>2.784312</td>\n",
       "      <td>0.168895</td>\n",
       "      <td>S50</td>\n",
       "      <td>3</td>\n",
       "    </tr>\n",
       "    <tr>\n",
       "      <th>192</th>\n",
       "      <td>240.005</td>\n",
       "      <td>74.287</td>\n",
       "      <td>0.01360</td>\n",
       "      <td>0.00008</td>\n",
       "      <td>0.00624</td>\n",
       "      <td>0.00564</td>\n",
       "      <td>0.01873</td>\n",
       "      <td>0.02308</td>\n",
       "      <td>0.256</td>\n",
       "      <td>0.01268</td>\n",
       "      <td>...</td>\n",
       "      <td>17.883</td>\n",
       "      <td>0</td>\n",
       "      <td>0.407567</td>\n",
       "      <td>0.655683</td>\n",
       "      <td>-6.787197</td>\n",
       "      <td>0.158453</td>\n",
       "      <td>2.679772</td>\n",
       "      <td>0.131728</td>\n",
       "      <td>S50</td>\n",
       "      <td>4</td>\n",
       "    </tr>\n",
       "    <tr>\n",
       "      <th>193</th>\n",
       "      <td>396.961</td>\n",
       "      <td>74.904</td>\n",
       "      <td>0.00740</td>\n",
       "      <td>0.00004</td>\n",
       "      <td>0.00370</td>\n",
       "      <td>0.00390</td>\n",
       "      <td>0.01109</td>\n",
       "      <td>0.02296</td>\n",
       "      <td>0.241</td>\n",
       "      <td>0.01265</td>\n",
       "      <td>...</td>\n",
       "      <td>19.020</td>\n",
       "      <td>0</td>\n",
       "      <td>0.451221</td>\n",
       "      <td>0.643956</td>\n",
       "      <td>-6.744577</td>\n",
       "      <td>0.207454</td>\n",
       "      <td>2.138608</td>\n",
       "      <td>0.123306</td>\n",
       "      <td>S50</td>\n",
       "      <td>5</td>\n",
       "    </tr>\n",
       "    <tr>\n",
       "      <th>194</th>\n",
       "      <td>260.277</td>\n",
       "      <td>77.973</td>\n",
       "      <td>0.00567</td>\n",
       "      <td>0.00003</td>\n",
       "      <td>0.00295</td>\n",
       "      <td>0.00317</td>\n",
       "      <td>0.00885</td>\n",
       "      <td>0.01884</td>\n",
       "      <td>0.190</td>\n",
       "      <td>0.01026</td>\n",
       "      <td>...</td>\n",
       "      <td>21.209</td>\n",
       "      <td>0</td>\n",
       "      <td>0.462803</td>\n",
       "      <td>0.664357</td>\n",
       "      <td>-5.724056</td>\n",
       "      <td>0.190667</td>\n",
       "      <td>2.555477</td>\n",
       "      <td>0.148569</td>\n",
       "      <td>S50</td>\n",
       "      <td>6</td>\n",
       "    </tr>\n",
       "  </tbody>\n",
       "</table>\n",
       "<p>195 rows × 24 columns</p>\n",
       "</div>"
      ],
      "text/plain": [
       "       maxFF    minFF  percJitter  absJitter      rap      ppq      ddp  \\\n",
       "0    157.302   74.997     0.00784    0.00007  0.00370  0.00554  0.01109   \n",
       "1    148.650  113.819     0.00968    0.00008  0.00465  0.00696  0.01394   \n",
       "2    131.111  111.555     0.01050    0.00009  0.00544  0.00781  0.01633   \n",
       "3    137.871  111.366     0.00997    0.00009  0.00502  0.00698  0.01505   \n",
       "4    141.781  110.655     0.01284    0.00011  0.00655  0.00908  0.01966   \n",
       "..       ...      ...         ...        ...      ...      ...      ...   \n",
       "190  230.978   94.261     0.00459    0.00003  0.00263  0.00259  0.00790   \n",
       "191  253.017   89.488     0.00564    0.00003  0.00331  0.00292  0.00994   \n",
       "192  240.005   74.287     0.01360    0.00008  0.00624  0.00564  0.01873   \n",
       "193  396.961   74.904     0.00740    0.00004  0.00370  0.00390  0.01109   \n",
       "194  260.277   77.973     0.00567    0.00003  0.00295  0.00317  0.00885   \n",
       "\n",
       "     lShimer  dbShimer     apq3  ...     HNR  status      RPDE       DFA  \\\n",
       "0    0.04374     0.426  0.02182  ...  21.033       1  0.414783  0.815285   \n",
       "1    0.06134     0.626  0.03134  ...  19.085       1  0.458359  0.819521   \n",
       "2    0.05233     0.482  0.02757  ...  20.651       1  0.429895  0.825288   \n",
       "3    0.05492     0.517  0.02924  ...  20.644       1  0.434969  0.819235   \n",
       "4    0.06425     0.584  0.03490  ...  19.649       1  0.417356  0.823484   \n",
       "..       ...       ...      ...  ...     ...     ...       ...       ...   \n",
       "190  0.04087     0.405  0.02336  ...  19.517       0  0.448439  0.657899   \n",
       "191  0.02751     0.263  0.01604  ...  19.147       0  0.431674  0.683244   \n",
       "192  0.02308     0.256  0.01268  ...  17.883       0  0.407567  0.655683   \n",
       "193  0.02296     0.241  0.01265  ...  19.020       0  0.451221  0.643956   \n",
       "194  0.01884     0.190  0.01026  ...  21.209       0  0.462803  0.664357   \n",
       "\n",
       "      spread1   spread2        D2       PPE  subject_id  trial  \n",
       "0   -4.813031  0.266482  2.301442  0.284654         S01      1  \n",
       "1   -4.075192  0.335590  2.486855  0.368674         S01      2  \n",
       "2   -4.443179  0.311173  2.342259  0.332634         S01      3  \n",
       "3   -4.117501  0.334147  2.405554  0.368975         S01      4  \n",
       "4   -3.747787  0.234513  2.332180  0.410335         S01      5  \n",
       "..        ...       ...       ...       ...         ...    ...  \n",
       "190 -6.538586  0.121952  2.657476  0.133050         S50      2  \n",
       "191 -6.195325  0.129303  2.784312  0.168895         S50      3  \n",
       "192 -6.787197  0.158453  2.679772  0.131728         S50      4  \n",
       "193 -6.744577  0.207454  2.138608  0.123306         S50      5  \n",
       "194 -5.724056  0.190667  2.555477  0.148569         S50      6  \n",
       "\n",
       "[195 rows x 24 columns]"
      ]
     },
     "execution_count": 8,
     "metadata": {},
     "output_type": "execute_result"
    }
   ],
   "source": [
    "#current df available\n",
    "renamed_parkinsons_df"
   ]
  },
  {
   "cell_type": "markdown",
   "id": "08cc78e8",
   "metadata": {},
   "source": [
    "**Question 1: Are there any correlations present in our data?**"
   ]
  },
  {
   "cell_type": "code",
   "execution_count": 9,
   "id": "77182c95",
   "metadata": {},
   "outputs": [
    {
     "name": "stdout",
     "output_type": "stream",
     "text": [
      "Variables absJitter and percJitter have a correlation coefficient of 0.94\n",
      "Variables rap and percJitter have a correlation coefficient of 0.99\n",
      "Variables rap and absJitter have a correlation coefficient of 0.92\n",
      "Variables ppq and percJitter have a correlation coefficient of 0.97\n",
      "Variables ppq and absJitter have a correlation coefficient of 0.90\n",
      "Variables ppq and rap have a correlation coefficient of 0.96\n",
      "Variables ddp and percJitter have a correlation coefficient of 0.99\n",
      "Variables ddp and absJitter have a correlation coefficient of 0.92\n",
      "Variables ddp and rap have a correlation coefficient of 1.00\n",
      "Variables ddp and ppq have a correlation coefficient of 0.96\n",
      "Variables dbShimer and percJitter have a correlation coefficient of 0.80\n",
      "Variables dbShimer and ppq have a correlation coefficient of 0.84\n",
      "Variables dbShimer and lShimer have a correlation coefficient of 0.99\n",
      "Variables apq3 and lShimer have a correlation coefficient of 0.99\n",
      "Variables apq3 and dbShimer have a correlation coefficient of 0.96\n",
      "Variables apq5 and lShimer have a correlation coefficient of 0.98\n",
      "Variables apq5 and dbShimer have a correlation coefficient of 0.97\n",
      "Variables apq5 and apq3 have a correlation coefficient of 0.96\n",
      "Variables apq and ppq have a correlation coefficient of 0.80\n",
      "Variables apq and lShimer have a correlation coefficient of 0.95\n",
      "Variables apq and dbShimer have a correlation coefficient of 0.96\n",
      "Variables apq and apq3 have a correlation coefficient of 0.90\n",
      "Variables apq and apq5 have a correlation coefficient of 0.95\n",
      "Variables dda and lShimer have a correlation coefficient of 0.99\n",
      "Variables dda and dbShimer have a correlation coefficient of 0.96\n",
      "Variables dda and apq3 have a correlation coefficient of 1.00\n",
      "Variables dda and apq5 have a correlation coefficient of 0.96\n",
      "Variables dda and apq have a correlation coefficient of 0.90\n",
      "Variables NHR and percJitter have a correlation coefficient of 0.91\n",
      "Variables NHR and absJitter have a correlation coefficient of 0.83\n",
      "Variables NHR and rap have a correlation coefficient of 0.92\n",
      "Variables NHR and ppq have a correlation coefficient of 0.84\n",
      "Variables NHR and ddp have a correlation coefficient of 0.92\n",
      "Variables HNR and lShimer have a correlation coefficient of -0.84\n",
      "Variables HNR and dbShimer have a correlation coefficient of -0.83\n",
      "Variables HNR and apq3 have a correlation coefficient of -0.83\n",
      "Variables HNR and apq5 have a correlation coefficient of -0.81\n",
      "Variables HNR and apq have a correlation coefficient of -0.80\n",
      "Variables HNR and dda have a correlation coefficient of -0.83\n",
      "Variables PPE and spread1 have a correlation coefficient of 0.96\n"
     ]
    }
   ],
   "source": [
    "# calculating the correlation matrix\n",
    "correlation_matrix = renamed_parkinsons_df.corr()\n",
    "\n",
    "# setting a threshold for identifying high correlations\n",
    "correlation_threshold = 0.8\n",
    "\n",
    "# identifying pairs of highly correlated variables\n",
    "highly_correlated_pairs = []\n",
    "for i in range(len(correlation_matrix.columns)):\n",
    "    for j in range(i):\n",
    "        if abs(correlation_matrix.iloc[i, j]) > correlation_threshold:\n",
    "            col_name = correlation_matrix.columns[i]\n",
    "            row_name = correlation_matrix.columns[j]\n",
    "            corr_value = correlation_matrix.iloc[i, j]\n",
    "            highly_correlated_pairs.append((col_name, row_name, corr_value))\n",
    "\n",
    "# display highly correlated pairs\n",
    "for pair in highly_correlated_pairs:\n",
    "    print(f\"Variables {pair[0]} and {pair[1]} have a correlation coefficient of {pair[2]:.2f}\")\n"
   ]
  },
  {
   "cell_type": "markdown",
   "id": "a566bcba",
   "metadata": {},
   "source": [
    "*We have set the threshold to 0.8, and thus we consider two variables to be highly correlated if the absolute value of their correlation coefficient is greater than or equal to 0.8. By setting the threshold to 0.8, we aim to strike a balance, removing variables that are likely to cause multicollinearity issues while retaining as much useful information in the dataset as possible.*"
   ]
  },
  {
   "cell_type": "code",
   "execution_count": 10,
   "id": "2b9c71c3",
   "metadata": {},
   "outputs": [
    {
     "name": "stdout",
     "output_type": "stream",
     "text": [
      "     maxFF    minFF  percJitter  lShimer  status      RPDE       DFA  \\\n",
      "0  157.302   74.997     0.00784  0.04374       1  0.414783  0.815285   \n",
      "1  148.650  113.819     0.00968  0.06134       1  0.458359  0.819521   \n",
      "2  131.111  111.555     0.01050  0.05233       1  0.429895  0.825288   \n",
      "3  137.871  111.366     0.00997  0.05492       1  0.434969  0.819235   \n",
      "4  141.781  110.655     0.01284  0.06425       1  0.417356  0.823484   \n",
      "\n",
      "    spread1   spread2        D2 subject_id trial  \n",
      "0 -4.813031  0.266482  2.301442        S01     1  \n",
      "1 -4.075192  0.335590  2.486855        S01     2  \n",
      "2 -4.443179  0.311173  2.342259        S01     3  \n",
      "3 -4.117501  0.334147  2.405554        S01     4  \n",
      "4 -3.747787  0.234513  2.332180        S01     5  \n"
     ]
    }
   ],
   "source": [
    "# defining the function to remove highly correlated variables\n",
    "def remove_highly_correlated_variables(df, threshold=0.8):\n",
    "    corr_matrix = df.corr()\n",
    "    vars_to_remove = set()\n",
    "    for i in range(len(corr_matrix.columns)):\n",
    "        for j in range(i):\n",
    "            if abs(corr_matrix.iloc[i, j]) > threshold:\n",
    "                vars_to_remove.add(corr_matrix.columns[i])\n",
    "    reduced_df = df.drop(columns=list(vars_to_remove))\n",
    "    return reduced_df\n",
    "\n",
    "# using the function to create a df with reduced multicollinearity\n",
    "reduced_parkinsons_df = remove_highly_correlated_variables(renamed_parkinsons_df, 0.8)\n",
    "\n",
    "# display df\n",
    "print(reduced_parkinsons_df.head())\n"
   ]
  },
  {
   "cell_type": "markdown",
   "id": "4a0003b7",
   "metadata": {},
   "source": [
    "*These are the variables that are now left after removing those variables that are highly correlated with others (correlation coefficient > 0.8), we have been able to reduce multicollinearity. This helps in making our model's estimates more stable and interpretable.*"
   ]
  },
  {
   "cell_type": "markdown",
   "id": "83f59383",
   "metadata": {},
   "source": [
    "**Question 2: How many observations do you have?**"
   ]
  },
  {
   "cell_type": "code",
   "execution_count": 11,
   "id": "859bcf8e",
   "metadata": {},
   "outputs": [
    {
     "data": {
      "text/plain": [
       "(195, 12)"
      ]
     },
     "execution_count": 11,
     "metadata": {},
     "output_type": "execute_result"
    }
   ],
   "source": [
    "reduced_parkinsons_df.shape"
   ]
  },
  {
   "cell_type": "markdown",
   "id": "cd51facc",
   "metadata": {},
   "source": [
    "*We have a total of 195 observations, and the rows indiciate the number of rows we have in our current df.*"
   ]
  },
  {
   "cell_type": "markdown",
   "id": "12c5f8f0",
   "metadata": {},
   "source": [
    "**Question 2: Are there apparent differences between controls and patients?**"
   ]
  },
  {
   "cell_type": "code",
   "execution_count": 12,
   "id": "a226a0a1",
   "metadata": {},
   "outputs": [
    {
     "data": {
      "text/html": [
       "<div>\n",
       "<style scoped>\n",
       "    .dataframe tbody tr th:only-of-type {\n",
       "        vertical-align: middle;\n",
       "    }\n",
       "\n",
       "    .dataframe tbody tr th {\n",
       "        vertical-align: top;\n",
       "    }\n",
       "\n",
       "    .dataframe thead tr th {\n",
       "        text-align: left;\n",
       "    }\n",
       "\n",
       "    .dataframe thead tr:last-of-type th {\n",
       "        text-align: right;\n",
       "    }\n",
       "</style>\n",
       "<table border=\"1\" class=\"dataframe\">\n",
       "  <thead>\n",
       "    <tr>\n",
       "      <th></th>\n",
       "      <th colspan=\"8\" halign=\"left\">maxFF</th>\n",
       "      <th colspan=\"2\" halign=\"left\">minFF</th>\n",
       "      <th>...</th>\n",
       "      <th colspan=\"2\" halign=\"left\">spread2</th>\n",
       "      <th colspan=\"8\" halign=\"left\">D2</th>\n",
       "    </tr>\n",
       "    <tr>\n",
       "      <th></th>\n",
       "      <th>count</th>\n",
       "      <th>mean</th>\n",
       "      <th>std</th>\n",
       "      <th>min</th>\n",
       "      <th>25%</th>\n",
       "      <th>50%</th>\n",
       "      <th>75%</th>\n",
       "      <th>max</th>\n",
       "      <th>count</th>\n",
       "      <th>mean</th>\n",
       "      <th>...</th>\n",
       "      <th>75%</th>\n",
       "      <th>max</th>\n",
       "      <th>count</th>\n",
       "      <th>mean</th>\n",
       "      <th>std</th>\n",
       "      <th>min</th>\n",
       "      <th>25%</th>\n",
       "      <th>50%</th>\n",
       "      <th>75%</th>\n",
       "      <th>max</th>\n",
       "    </tr>\n",
       "    <tr>\n",
       "      <th>status</th>\n",
       "      <th></th>\n",
       "      <th></th>\n",
       "      <th></th>\n",
       "      <th></th>\n",
       "      <th></th>\n",
       "      <th></th>\n",
       "      <th></th>\n",
       "      <th></th>\n",
       "      <th></th>\n",
       "      <th></th>\n",
       "      <th></th>\n",
       "      <th></th>\n",
       "      <th></th>\n",
       "      <th></th>\n",
       "      <th></th>\n",
       "      <th></th>\n",
       "      <th></th>\n",
       "      <th></th>\n",
       "      <th></th>\n",
       "      <th></th>\n",
       "      <th></th>\n",
       "    </tr>\n",
       "  </thead>\n",
       "  <tbody>\n",
       "    <tr>\n",
       "      <th>0</th>\n",
       "      <td>48.0</td>\n",
       "      <td>223.636750</td>\n",
       "      <td>96.727067</td>\n",
       "      <td>113.597</td>\n",
       "      <td>139.41325</td>\n",
       "      <td>231.1615</td>\n",
       "      <td>251.23925</td>\n",
       "      <td>592.030</td>\n",
       "      <td>48.0</td>\n",
       "      <td>145.207292</td>\n",
       "      <td>...</td>\n",
       "      <td>0.193766</td>\n",
       "      <td>0.291954</td>\n",
       "      <td>48.0</td>\n",
       "      <td>2.154491</td>\n",
       "      <td>0.310269</td>\n",
       "      <td>1.423287</td>\n",
       "      <td>1.974217</td>\n",
       "      <td>2.129510</td>\n",
       "      <td>2.339487</td>\n",
       "      <td>2.882450</td>\n",
       "    </tr>\n",
       "    <tr>\n",
       "      <th>1</th>\n",
       "      <td>147.0</td>\n",
       "      <td>188.441463</td>\n",
       "      <td>88.339180</td>\n",
       "      <td>102.145</td>\n",
       "      <td>133.77650</td>\n",
       "      <td>163.3350</td>\n",
       "      <td>207.16050</td>\n",
       "      <td>588.518</td>\n",
       "      <td>147.0</td>\n",
       "      <td>106.893558</td>\n",
       "      <td>...</td>\n",
       "      <td>0.303660</td>\n",
       "      <td>0.450493</td>\n",
       "      <td>147.0</td>\n",
       "      <td>2.456058</td>\n",
       "      <td>0.375742</td>\n",
       "      <td>1.765957</td>\n",
       "      <td>2.180933</td>\n",
       "      <td>2.439597</td>\n",
       "      <td>2.668479</td>\n",
       "      <td>3.671155</td>\n",
       "    </tr>\n",
       "  </tbody>\n",
       "</table>\n",
       "<p>2 rows × 72 columns</p>\n",
       "</div>"
      ],
      "text/plain": [
       "        maxFF                                                                  \\\n",
       "        count        mean        std      min        25%       50%        75%   \n",
       "status                                                                          \n",
       "0        48.0  223.636750  96.727067  113.597  139.41325  231.1615  251.23925   \n",
       "1       147.0  188.441463  88.339180  102.145  133.77650  163.3350  207.16050   \n",
       "\n",
       "                 minFF              ...   spread2               D2            \\\n",
       "            max  count        mean  ...       75%       max  count      mean   \n",
       "status                              ...                                        \n",
       "0       592.030   48.0  145.207292  ...  0.193766  0.291954   48.0  2.154491   \n",
       "1       588.518  147.0  106.893558  ...  0.303660  0.450493  147.0  2.456058   \n",
       "\n",
       "                                                                    \n",
       "             std       min       25%       50%       75%       max  \n",
       "status                                                              \n",
       "0       0.310269  1.423287  1.974217  2.129510  2.339487  2.882450  \n",
       "1       0.375742  1.765957  2.180933  2.439597  2.668479  3.671155  \n",
       "\n",
       "[2 rows x 72 columns]"
      ]
     },
     "execution_count": 12,
     "metadata": {},
     "output_type": "execute_result"
    }
   ],
   "source": [
    "# we can use the variable status which have a 0 or 1 value and most likley indicates control (0) or patient (1)\n",
    "detailed_stats_by_status = reduced_parkinsons_df.groupby('status').describe()\n",
    "\n",
    "# displaying the detailed statistics for each variable grouped by status\n",
    "detailed_stats_by_status"
   ]
  },
  {
   "cell_type": "markdown",
   "id": "be951b90",
   "metadata": {},
   "source": [
    "*In summary, based on the provided statistics, there are apparent differences between controls (status 0) and patients (status 1) in terms of their vocal features. Patients generally exhibit lower values for avFF and maxFF but higher values for spread2 and D2 compared to controls. These differences may indicate potential distinctions in vocal characteristics between the two groups.\n",
    "\n",
    "To confirm we have to conduct a t-test to see whether there are indeed significant differences.*"
   ]
  },
  {
   "cell_type": "code",
   "execution_count": 13,
   "id": "189be431",
   "metadata": {},
   "outputs": [
    {
     "name": "stdout",
     "output_type": "stream",
     "text": [
      "T-test for maxFF:\n",
      "  T-statistic: 2.235, P-value: 0.028\n",
      "\n",
      "T-test for minFF:\n",
      "  T-statistic: 4.310, P-value: 0.000\n",
      "\n",
      "T-test for spread2:\n",
      "  T-statistic: -7.894, P-value: 0.000\n",
      "\n",
      "T-test for D2:\n",
      "  T-statistic: -5.537, P-value: 0.000\n",
      "\n"
     ]
    }
   ],
   "source": [
    "from scipy.stats import ttest_ind\n",
    "\n",
    "# variables to test\n",
    "variables_to_test = ['maxFF', 'minFF', 'spread2', 'D2']\n",
    "\n",
    "# running independent t-tests for each variable to check stat significance\n",
    "for var in variables_to_test:\n",
    "    # splitting the dataset into controls and patients for the current variable\n",
    "    controls = reduced_parkinsons_df[reduced_parkinsons_df['status'] == 0][var]\n",
    "    patients = reduced_parkinsons_df[reduced_parkinsons_df['status'] == 1][var]\n",
    "\n",
    "    # performing the t-test\n",
    "    t_stat, p_value = ttest_ind(controls, patients, equal_var=False)  # equal_var=False for Welch's t-test\n",
    "\n",
    "    # displaying the results\n",
    "    print(f\"T-test for {var}:\")\n",
    "    print(f\"  T-statistic: {t_stat:.3f}, P-value: {p_value:.3f}\\n\")\n"
   ]
  },
  {
   "cell_type": "markdown",
   "id": "2faf9638",
   "metadata": {},
   "source": [
    "**Here is a breakdown of these differences with our t-tests for our variables 'maxFF', 'minFF', 'spread2', and 'D2' This information provide valuable insights into the differences between controls and patients in the dataset.**\n",
    "\n",
    "1. maxFF (Maximum Fundamental Frequency): Here the positive T-statistic indicates that the mean maxFF is higher in controls compared to patients. The P-value of 0.028 is less than the typical alpha level of 0.05, suggesting that this difference is statistically significant. This could mean that patients with Parkinson's disease tend to have a lower maximum fundamental frequency in their voice.\n",
    "\n",
    "2. minFF (Minimum Fundamental Frequency): The P-value is extremely low, indicating a highly significant difference in minFF between controls and patients. The positive T-statistic suggests that controls have a higher minFF compared to patients. This further supports the idea that Parkinson's disease impacts patients' ability to modulate their voice frequency.\n",
    "\n",
    "3. spread2: The negative T-statistic indicates that the mean value of spread2 is lower in controls than in patients, and the very low P-value signifies that this difference is statistically significant. Higher values of spread2 in patients may be indicative of more variability or irregularity in their vocal patterns, which is consistent with Parkinson's symptoms.\n",
    "\n",
    "4. D2: Again, the negative T-statistic and the very low P-value suggest that patients have significantly higher values of D2 compared to controls. This might reflect changes in the dynamical characteristics of the voice due to Parkinson's disease.\n",
    "\n",
    "**Conclusions** The results strongly suggest that there are significant differences in vocal features between controls and Parkinson's patients.Patients tend to have lower maximum and minimum fundamental frequencies (maxFF and minFF), and higher values of spread2 and D2. These findings are consistent with the known effects of Parkinson's disease on the voice, such as reduced vocal control and increased variability in pitch and volume.\n",
    "\n",
    "So with this dataset, these results can be important for diagnostic and monitoring purposes in clinical settings."
   ]
  },
  {
   "cell_type": "markdown",
   "id": "4bcebea1",
   "metadata": {},
   "source": [
    "**Question 3: Check the minimum and maximum values - are there outliers?**"
   ]
  },
  {
   "cell_type": "code",
   "execution_count": 14,
   "id": "29780472",
   "metadata": {},
   "outputs": [
    {
     "data": {
      "image/png": "[encoded data removed]",
      "text/plain": [
       "<Figure size 720x432 with 1 Axes>"
      ]
     },
     "metadata": {
      "needs_background": "light"
     },
     "output_type": "display_data"
    },
    {
     "data": {
      "image/png": "[encoded data removed]",
      "text/plain": [
       "<Figure size 720x432 with 1 Axes>"
      ]
     },
     "metadata": {
      "needs_background": "light"
     },
     "output_type": "display_data"
    }
   ],
   "source": [
    "import seaborn as sns\n",
    "import matplotlib.pyplot as plt\n",
    "\n",
    "# show our variables to plot and create boxplots\n",
    "variables = ['maxFF', 'minFF']\n",
    "    \n",
    "for var in variables:\n",
    "    plt.figure(figsize=(10,6))\n",
    "    ax = sns.boxplot(x='status', y=var, data=reduced_parkinsons_df)\n",
    "    plt.title(f'Box Plot of {var} by Status')\n",
    "\n",
    "    # titles needed for 0 as 'Control' and 1 as 'Patient' for clarity\n",
    "    ax.set_xticklabels(['Control', 'Patient'])\n",
    "    \n",
    "    plt.show()\n"
   ]
  },
  {
   "cell_type": "markdown",
   "id": "986745a7",
   "metadata": {},
   "source": [
    "**Here is a breakdown of the potential outliers for both control and patient groups for minFF and maxFF**\n",
    "\n",
    "1. minFF:\n",
    "- The median value for minFF is lower for patients (status 1) compared to controls (status 0), which suggests that patients with Parkinson's disease have a lower minimum pitch of voice.\n",
    "- The interquartile range is similar between the two groups, indicating a comparable spread of data around the median.\n",
    "- **There are no visible outliers in the control group**, while the **patient group appears to have a couple of points outside the upper whisker**, suggesting the presence of high outliers. This might indicate that while most patients have a consistently lower minFF, there are a few with higher values.\n",
    "\n",
    "2. maxFF:\n",
    "- **There is a considerable number of outliers in both groups, more so in the control group.**\n",
    "- The control group has a higher median and more variability as indicated by a longer IQR.\n",
    "- The presence of multiple outliers, especially in the control group, could be due to various factors, such as natural variation or perhaps anomalies in measurement.\n",
    "\n",
    "**Conclusions** The analysis of minFF and maxFF reveals that both the minimum and maximum fundamental frequencies tend to be lower in patients with Parkinson's disease compared to control subjects. The presence of outliers in the patient group for minFF and in the control group for maxFF could be of clinical interest, as it may point to individual differences in disease impact or vocal performance among healthy subjects. These findings are consistent with the known symptoms of Parkinson's disease, which can include a reduced range and variability in vocal frequency due to rigidity and bradykinesia affecting laryngeal muscles."
   ]
  },
  {
   "cell_type": "markdown",
   "id": "dc33ee6a",
   "metadata": {},
   "source": [
    "**Question 4: Variance between both groups**"
   ]
  },
  {
   "cell_type": "markdown",
   "id": "ca989935",
   "metadata": {},
   "source": [
    "*We will perform Levene's test to determine if the differences in variances between the two groups are statistically significant. A low p-value in Levene's test (typically below 0.05) would indicate that there is a significant difference in variance between the two groups.*"
   ]
  },
  {
   "cell_type": "code",
   "execution_count": 15,
   "id": "0eabfc83",
   "metadata": {},
   "outputs": [
    {
     "name": "stdout",
     "output_type": "stream",
     "text": [
      "Levene's test for maxFF:\n",
      "  Statistic: 0.4767, P-value: 0.4907\n",
      "\n",
      "Levene's test for minFF:\n",
      "  Statistic: 24.9246, P-value: 0.0000\n",
      "\n"
     ]
    }
   ],
   "source": [
    "from scipy.stats import levene\n",
    "\n",
    "variables = ['maxFF', 'minFF']\n",
    "\n",
    "for var in variables:\n",
    "    control_group = reduced_parkinsons_df[reduced_parkinsons_df['status'] == 0][var]\n",
    "    patient_group = reduced_parkinsons_df[reduced_parkinsons_df['status'] == 1][var]\n",
    "    \n",
    "    # Perform Levene's test\n",
    "    stat, p = levene(control_group, patient_group)\n",
    "    \n",
    "    # Display the result of Levene's test\n",
    "    print(f\"Levene's test for {var}:\")\n",
    "    print(f\"  Statistic: {stat:.4f}, P-value: {p:.4f}\\n\")"
   ]
  },
  {
   "cell_type": "markdown",
   "id": "0f0ac42e",
   "metadata": {},
   "source": [
    "**Here is a breakdown of the potential variance across both groups**\n",
    "\n",
    "Based on the above, we got the p-value which is significantly lower than 0.05, indicating that the variances of 'minFF' are significantly different between the two groups. The high value of the test statistic confirms the strength of this result. Therefore, the variability in 'minFF' differs between controls and patients, with the patients likely exhibiting more variability.\n",
    "\n",
    "Thus, together, for 'maxFF', both controls and patients have similar levels of variability in their voice frequency data, which suggests that Parkinson's disease may not significantly affect the variability of the maximum vocal frequency.\n",
    "\n",
    "For 'minFF', there's a significant difference in variability between the two groups, implying that Parkinson's disease affects the minimum vocal frequency differently across patients, potentially reflecting a symptom or a consequence of the condition that impacts voice characteristics more noticeably at lower frequencies.\n",
    "\n",
    "It seems that these findings could be valuable for clinicians or researchers focusing on speech symptoms in Parkinson's disease, as it suggests that the minimum frequency of the voice might be a more sensitive measure to differentiate between patients and controls compared to the maximum frequency."
   ]
  },
  {
   "cell_type": "code",
   "execution_count": 16,
   "id": "04ce03a0",
   "metadata": {},
   "outputs": [
    {
     "name": "stdout",
     "output_type": "stream",
     "text": [
      "                 maxFF       minFF  percJitter   lShimer  status      RPDE  \\\n",
      "subject_id                                                                   \n",
      "S01         141.312833  106.029833    0.010085  0.053932       1  0.428488   \n",
      "S02         121.894333   95.413167    0.004585  0.021668       1  0.598429   \n",
      "S04         216.867500   87.532333    0.004347  0.019343       1  0.521660   \n",
      "S05         181.630167   86.767167    0.006247  0.043337       1  0.626723   \n",
      "S06         208.264333   78.278333    0.005230  0.021367       1  0.432723   \n",
      "\n",
      "                 DFA   spread1   spread2        D2  \n",
      "subject_id                                          \n",
      "S01         0.821314 -4.239926  0.296836  2.342642  \n",
      "S02         0.778017 -5.420414  0.308289  2.287428  \n",
      "S04         0.645843 -5.337281  0.249288  2.360638  \n",
      "S05         0.695886 -4.560947  0.278482  2.787869  \n",
      "S06         0.719675 -6.223537  0.228296  2.440360  \n"
     ]
    }
   ],
   "source": [
    "from collaborator_3_Sarah import group_and_average\n",
    "\n",
    "agg_df = group_and_average(reduced_parkinsons_df, \"subject_id\")\n",
    "\n",
    "print(agg_df.head())"
   ]
  },
  {
   "cell_type": "code",
   "execution_count": 17,
   "id": "5fd2c3c0",
   "metadata": {},
   "outputs": [
    {
     "data": {
      "text/plain": [
       "(32, 10)"
      ]
     },
     "execution_count": 17,
     "metadata": {},
     "output_type": "execute_result"
    }
   ],
   "source": [
    "agg_df.shape"
   ]
  },
  {
   "cell_type": "markdown",
   "id": "d456523d",
   "metadata": {},
   "source": [
    "*As we see, the total number of observations we have is 32 after aggregating each variable of the cleaned_dataframe across trials for each subject.*"
   ]
  },
  {
   "cell_type": "code",
   "execution_count": 18,
   "id": "e109178f",
   "metadata": {},
   "outputs": [
    {
     "data": {
      "image/png": "[encoded data removed]",
      "text/plain": [
       "<Figure size 432x288 with 1 Axes>"
      ]
     },
     "metadata": {
      "needs_background": "light"
     },
     "output_type": "display_data"
    }
   ],
   "source": [
    "from colaborator_two_anton import scat_plt\n",
    "\n",
    "scat_plt(df['MDVP:Fo(Hz)'], df['MDVP:Fhi(Hz)'], df['status'])"
   ]
  },
  {
   "cell_type": "code",
   "execution_count": 19,
   "id": "ac6fefce",
   "metadata": {},
   "outputs": [
    {
     "data": {
      "text/html": [
       "<div>\n",
       "<style scoped>\n",
       "    .dataframe tbody tr th:only-of-type {\n",
       "        vertical-align: middle;\n",
       "    }\n",
       "\n",
       "    .dataframe tbody tr th {\n",
       "        vertical-align: top;\n",
       "    }\n",
       "\n",
       "    .dataframe thead th {\n",
       "        text-align: right;\n",
       "    }\n",
       "</style>\n",
       "<table border=\"1\" class=\"dataframe\">\n",
       "  <thead>\n",
       "    <tr style=\"text-align: right;\">\n",
       "      <th></th>\n",
       "      <th>MDVP:Fo(Hz)</th>\n",
       "      <th>MDVP:Fhi(Hz)</th>\n",
       "      <th>MDVP:Flo(Hz)</th>\n",
       "      <th>MDVP:Jitter(%)</th>\n",
       "      <th>MDVP:Jitter(Abs)</th>\n",
       "      <th>MDVP:RAP</th>\n",
       "      <th>MDVP:PPQ</th>\n",
       "      <th>Jitter:DDP</th>\n",
       "      <th>MDVP:Shimmer</th>\n",
       "      <th>MDVP:Shimmer(dB)</th>\n",
       "      <th>...</th>\n",
       "      <th>HNR</th>\n",
       "      <th>status</th>\n",
       "      <th>RPDE</th>\n",
       "      <th>DFA</th>\n",
       "      <th>spread1</th>\n",
       "      <th>spread2</th>\n",
       "      <th>D2</th>\n",
       "      <th>PPE</th>\n",
       "      <th>subject_id</th>\n",
       "      <th>trial</th>\n",
       "    </tr>\n",
       "  </thead>\n",
       "  <tbody>\n",
       "    <tr>\n",
       "      <th>0</th>\n",
       "      <td>119.992</td>\n",
       "      <td>157.302</td>\n",
       "      <td>74.997</td>\n",
       "      <td>0.00784</td>\n",
       "      <td>0.00007</td>\n",
       "      <td>0.00370</td>\n",
       "      <td>0.00554</td>\n",
       "      <td>0.01109</td>\n",
       "      <td>0.04374</td>\n",
       "      <td>0.426</td>\n",
       "      <td>...</td>\n",
       "      <td>21.033</td>\n",
       "      <td>1</td>\n",
       "      <td>0.414783</td>\n",
       "      <td>0.815285</td>\n",
       "      <td>-4.813031</td>\n",
       "      <td>0.266482</td>\n",
       "      <td>2.301442</td>\n",
       "      <td>0.284654</td>\n",
       "      <td>phon</td>\n",
       "      <td>S01_1</td>\n",
       "    </tr>\n",
       "    <tr>\n",
       "      <th>1</th>\n",
       "      <td>122.400</td>\n",
       "      <td>148.650</td>\n",
       "      <td>113.819</td>\n",
       "      <td>0.00968</td>\n",
       "      <td>0.00008</td>\n",
       "      <td>0.00465</td>\n",
       "      <td>0.00696</td>\n",
       "      <td>0.01394</td>\n",
       "      <td>0.06134</td>\n",
       "      <td>0.626</td>\n",
       "      <td>...</td>\n",
       "      <td>19.085</td>\n",
       "      <td>1</td>\n",
       "      <td>0.458359</td>\n",
       "      <td>0.819521</td>\n",
       "      <td>-4.075192</td>\n",
       "      <td>0.335590</td>\n",
       "      <td>2.486855</td>\n",
       "      <td>0.368674</td>\n",
       "      <td>phon</td>\n",
       "      <td>S01_2</td>\n",
       "    </tr>\n",
       "    <tr>\n",
       "      <th>2</th>\n",
       "      <td>116.682</td>\n",
       "      <td>131.111</td>\n",
       "      <td>111.555</td>\n",
       "      <td>0.01050</td>\n",
       "      <td>0.00009</td>\n",
       "      <td>0.00544</td>\n",
       "      <td>0.00781</td>\n",
       "      <td>0.01633</td>\n",
       "      <td>0.05233</td>\n",
       "      <td>0.482</td>\n",
       "      <td>...</td>\n",
       "      <td>20.651</td>\n",
       "      <td>1</td>\n",
       "      <td>0.429895</td>\n",
       "      <td>0.825288</td>\n",
       "      <td>-4.443179</td>\n",
       "      <td>0.311173</td>\n",
       "      <td>2.342259</td>\n",
       "      <td>0.332634</td>\n",
       "      <td>phon</td>\n",
       "      <td>S01_3</td>\n",
       "    </tr>\n",
       "    <tr>\n",
       "      <th>3</th>\n",
       "      <td>116.676</td>\n",
       "      <td>137.871</td>\n",
       "      <td>111.366</td>\n",
       "      <td>0.00997</td>\n",
       "      <td>0.00009</td>\n",
       "      <td>0.00502</td>\n",
       "      <td>0.00698</td>\n",
       "      <td>0.01505</td>\n",
       "      <td>0.05492</td>\n",
       "      <td>0.517</td>\n",
       "      <td>...</td>\n",
       "      <td>20.644</td>\n",
       "      <td>1</td>\n",
       "      <td>0.434969</td>\n",
       "      <td>0.819235</td>\n",
       "      <td>-4.117501</td>\n",
       "      <td>0.334147</td>\n",
       "      <td>2.405554</td>\n",
       "      <td>0.368975</td>\n",
       "      <td>phon</td>\n",
       "      <td>S01_4</td>\n",
       "    </tr>\n",
       "    <tr>\n",
       "      <th>4</th>\n",
       "      <td>116.014</td>\n",
       "      <td>141.781</td>\n",
       "      <td>110.655</td>\n",
       "      <td>0.01284</td>\n",
       "      <td>0.00011</td>\n",
       "      <td>0.00655</td>\n",
       "      <td>0.00908</td>\n",
       "      <td>0.01966</td>\n",
       "      <td>0.06425</td>\n",
       "      <td>0.584</td>\n",
       "      <td>...</td>\n",
       "      <td>19.649</td>\n",
       "      <td>1</td>\n",
       "      <td>0.417356</td>\n",
       "      <td>0.823484</td>\n",
       "      <td>-3.747787</td>\n",
       "      <td>0.234513</td>\n",
       "      <td>2.332180</td>\n",
       "      <td>0.410335</td>\n",
       "      <td>phon</td>\n",
       "      <td>S01_5</td>\n",
       "    </tr>\n",
       "  </tbody>\n",
       "</table>\n",
       "<p>5 rows × 25 columns</p>\n",
       "</div>"
      ],
      "text/plain": [
       "   MDVP:Fo(Hz)  MDVP:Fhi(Hz)  MDVP:Flo(Hz)  MDVP:Jitter(%)  MDVP:Jitter(Abs)  \\\n",
       "0      119.992       157.302        74.997         0.00784           0.00007   \n",
       "1      122.400       148.650       113.819         0.00968           0.00008   \n",
       "2      116.682       131.111       111.555         0.01050           0.00009   \n",
       "3      116.676       137.871       111.366         0.00997           0.00009   \n",
       "4      116.014       141.781       110.655         0.01284           0.00011   \n",
       "\n",
       "   MDVP:RAP  MDVP:PPQ  Jitter:DDP  MDVP:Shimmer  MDVP:Shimmer(dB)  ...  \\\n",
       "0   0.00370   0.00554     0.01109       0.04374             0.426  ...   \n",
       "1   0.00465   0.00696     0.01394       0.06134             0.626  ...   \n",
       "2   0.00544   0.00781     0.01633       0.05233             0.482  ...   \n",
       "3   0.00502   0.00698     0.01505       0.05492             0.517  ...   \n",
       "4   0.00655   0.00908     0.01966       0.06425             0.584  ...   \n",
       "\n",
       "      HNR  status      RPDE       DFA   spread1   spread2        D2       PPE  \\\n",
       "0  21.033       1  0.414783  0.815285 -4.813031  0.266482  2.301442  0.284654   \n",
       "1  19.085       1  0.458359  0.819521 -4.075192  0.335590  2.486855  0.368674   \n",
       "2  20.651       1  0.429895  0.825288 -4.443179  0.311173  2.342259  0.332634   \n",
       "3  20.644       1  0.434969  0.819235 -4.117501  0.334147  2.405554  0.368975   \n",
       "4  19.649       1  0.417356  0.823484 -3.747787  0.234513  2.332180  0.410335   \n",
       "\n",
       "   subject_id  trial  \n",
       "0        phon  S01_1  \n",
       "1        phon  S01_2  \n",
       "2        phon  S01_3  \n",
       "3        phon  S01_4  \n",
       "4        phon  S01_5  \n",
       "\n",
       "[5 rows x 25 columns]"
      ]
     },
     "execution_count": 19,
     "metadata": {},
     "output_type": "execute_result"
    }
   ],
   "source": [
    "'''\n",
    "Based on the variable ‘name’ write some code in the main that creates two new columns\n",
    "in the dataframe: one displaying the subject id (S1, S2, S3…) and another displaying the\n",
    "trial (t1, t2, t3, …, t6 or t7 in some cases). Remover the column name from the\n",
    "dataframe.\n",
    "\n",
    "'''\n",
    "\n",
    "df[['subject_id', 'trial']] = df['name'].str.split('_', n=1, expand=True)\n",
    "\n",
    "df['trial'] = df['trial'].str.split('_', n=1, expand=True)[1]\n",
    "\n",
    "df = df.drop(columns=['name'])\n",
    "\n",
    "df.head(5)"
   ]
  },
  {
   "cell_type": "code",
   "execution_count": 20,
   "id": "93039012",
   "metadata": {},
   "outputs": [
    {
     "name": "stdout",
     "output_type": "stream",
     "text": [
      "MDVP:Fo(Hz) MDVP:Fhi(Hz)\n"
     ]
    },
    {
     "data": {
      "image/png": "[encoded data removed]",
      "text/plain": [
       "<Figure size 432x288 with 1 Axes>"
      ]
     },
     "metadata": {
      "needs_background": "light"
     },
     "output_type": "display_data"
    },
    {
     "name": "stdout",
     "output_type": "stream",
     "text": [
      "MDVP:Fo(Hz) MDVP:Flo(Hz)\n"
     ]
    },
    {
     "data": {
      "image/png": "[encoded data removed]",
      "text/plain": [
       "<Figure size 432x288 with 1 Axes>"
      ]
     },
     "metadata": {
      "needs_background": "light"
     },
     "output_type": "display_data"
    },
    {
     "name": "stdout",
     "output_type": "stream",
     "text": [
      "MDVP:Fhi(Hz) MDVP:Flo(Hz)\n"
     ]
    },
    {
     "data": {
      "image/png": "[encoded data removed]",
      "text/plain": [
       "<Figure size 432x288 with 1 Axes>"
      ]
     },
     "metadata": {
      "needs_background": "light"
     },
     "output_type": "display_data"
    },
    {
     "name": "stdout",
     "output_type": "stream",
     "text": [
      "MDVP:Jitter(Abs) MDVP:RAP\n"
     ]
    },
    {
     "data": {
      "image/png": "[encoded data removed]",
      "text/plain": [
       "<Figure size 432x288 with 1 Axes>"
      ]
     },
     "metadata": {
      "needs_background": "light"
     },
     "output_type": "display_data"
    },
    {
     "name": "stdout",
     "output_type": "stream",
     "text": [
      "MDVP:Jitter(Abs) MDVP:PPQ\n"
     ]
    },
    {
     "data": {
      "image/png": "[encoded data removed]",
      "text/plain": [
       "<Figure size 432x288 with 1 Axes>"
      ]
     },
     "metadata": {
      "needs_background": "light"
     },
     "output_type": "display_data"
    },
    {
     "name": "stdout",
     "output_type": "stream",
     "text": [
      "MDVP:Jitter(Abs) Jitter:DDP\n"
     ]
    },
    {
     "data": {
      "image/png": "[encoded data removed]",
      "text/plain": [
       "<Figure size 432x288 with 1 Axes>"
      ]
     },
     "metadata": {
      "needs_background": "light"
     },
     "output_type": "display_data"
    },
    {
     "name": "stdout",
     "output_type": "stream",
     "text": [
      "MDVP:RAP MDVP:PPQ\n"
     ]
    },
    {
     "data": {
      "image/png": "[encoded data removed]",
      "text/plain": [
       "<Figure size 432x288 with 1 Axes>"
      ]
     },
     "metadata": {
      "needs_background": "light"
     },
     "output_type": "display_data"
    },
    {
     "name": "stdout",
     "output_type": "stream",
     "text": [
      "MDVP:RAP Jitter:DDP\n"
     ]
    },
    {
     "data": {
      "image/png": "[encoded data removed]",
      "text/plain": [
       "<Figure size 432x288 with 1 Axes>"
      ]
     },
     "metadata": {
      "needs_background": "light"
     },
     "output_type": "display_data"
    },
    {
     "name": "stdout",
     "output_type": "stream",
     "text": [
      "MDVP:PPQ Jitter:DDP\n"
     ]
    },
    {
     "data": {
      "image/png": "[encoded data removed]",
      "text/plain": [
       "<Figure size 432x288 with 1 Axes>"
      ]
     },
     "metadata": {
      "needs_background": "light"
     },
     "output_type": "display_data"
    },
    {
     "name": "stdout",
     "output_type": "stream",
     "text": [
      "MDVP:Shimmer MDVP:Shimmer(dB)\n"
     ]
    },
    {
     "data": {
      "image/png": "[encoded data removed]",
      "text/plain": [
       "<Figure size 432x288 with 1 Axes>"
      ]
     },
     "metadata": {
      "needs_background": "light"
     },
     "output_type": "display_data"
    },
    {
     "name": "stdout",
     "output_type": "stream",
     "text": [
      "MDVP:Shimmer Shimmer:APQ3\n"
     ]
    },
    {
     "data": {
      "image/png": "[encoded data removed]",
      "text/plain": [
       "<Figure size 432x288 with 1 Axes>"
      ]
     },
     "metadata": {
      "needs_background": "light"
     },
     "output_type": "display_data"
    },
    {
     "name": "stdout",
     "output_type": "stream",
     "text": [
      "MDVP:Shimmer Shimmer:APQ5\n"
     ]
    },
    {
     "data": {
      "image/png": "[encoded data removed]",
      "text/plain": [
       "<Figure size 432x288 with 1 Axes>"
      ]
     },
     "metadata": {
      "needs_background": "light"
     },
     "output_type": "display_data"
    },
    {
     "name": "stdout",
     "output_type": "stream",
     "text": [
      "MDVP:Shimmer MDVP:APQ\n"
     ]
    },
    {
     "data": {
      "image/png": "[encoded data removed]",
      "text/plain": [
       "<Figure size 432x288 with 1 Axes>"
      ]
     },
     "metadata": {
      "needs_background": "light"
     },
     "output_type": "display_data"
    },
    {
     "name": "stdout",
     "output_type": "stream",
     "text": [
      "MDVP:Shimmer Shimmer:DDA\n"
     ]
    },
    {
     "data": {
      "image/png": "[encoded data removed]",
      "text/plain": [
       "<Figure size 432x288 with 1 Axes>"
      ]
     },
     "metadata": {
      "needs_background": "light"
     },
     "output_type": "display_data"
    },
    {
     "name": "stdout",
     "output_type": "stream",
     "text": [
      "MDVP:Shimmer(dB) Shimmer:APQ3\n"
     ]
    },
    {
     "data": {
      "image/png": "[encoded data removed]",
      "text/plain": [
       "<Figure size 432x288 with 1 Axes>"
      ]
     },
     "metadata": {
      "needs_background": "light"
     },
     "output_type": "display_data"
    },
    {
     "name": "stdout",
     "output_type": "stream",
     "text": [
      "MDVP:Shimmer(dB) Shimmer:APQ5\n"
     ]
    },
    {
     "data": {
      "image/png": "[encoded data removed]",
      "text/plain": [
       "<Figure size 432x288 with 1 Axes>"
      ]
     },
     "metadata": {
      "needs_background": "light"
     },
     "output_type": "display_data"
    },
    {
     "name": "stdout",
     "output_type": "stream",
     "text": [
      "MDVP:Shimmer(dB) MDVP:APQ\n"
     ]
    },
    {
     "data": {
      "image/png": "[encoded data removed]",
      "text/plain": [
       "<Figure size 432x288 with 1 Axes>"
      ]
     },
     "metadata": {
      "needs_background": "light"
     },
     "output_type": "display_data"
    },
    {
     "name": "stdout",
     "output_type": "stream",
     "text": [
      "MDVP:Shimmer(dB) Shimmer:DDA\n"
     ]
    },
    {
     "data": {
      "image/png": "[encoded data removed]",
      "text/plain": [
       "<Figure size 432x288 with 1 Axes>"
      ]
     },
     "metadata": {
      "needs_background": "light"
     },
     "output_type": "display_data"
    },
    {
     "name": "stdout",
     "output_type": "stream",
     "text": [
      "Shimmer:APQ3 Shimmer:APQ5\n"
     ]
    },
    {
     "data": {
      "image/png": "[encoded data removed]",
      "text/plain": [
       "<Figure size 432x288 with 1 Axes>"
      ]
     },
     "metadata": {
      "needs_background": "light"
     },
     "output_type": "display_data"
    },
    {
     "name": "stdout",
     "output_type": "stream",
     "text": [
      "Shimmer:APQ3 MDVP:APQ\n"
     ]
    },
    {
     "data": {
      "image/png": "[encoded data removed]",
      "text/plain": [
       "<Figure size 432x288 with 1 Axes>"
      ]
     },
     "metadata": {
      "needs_background": "light"
     },
     "output_type": "display_data"
    },
    {
     "name": "stdout",
     "output_type": "stream",
     "text": [
      "Shimmer:APQ3 Shimmer:DDA\n"
     ]
    },
    {
     "data": {
      "image/png": "[encoded data removed]",
      "text/plain": [
       "<Figure size 432x288 with 1 Axes>"
      ]
     },
     "metadata": {
      "needs_background": "light"
     },
     "output_type": "display_data"
    },
    {
     "name": "stdout",
     "output_type": "stream",
     "text": [
      "Shimmer:APQ5 MDVP:APQ\n"
     ]
    },
    {
     "data": {
      "image/png": "[encoded data removed]",
      "text/plain": [
       "<Figure size 432x288 with 1 Axes>"
      ]
     },
     "metadata": {
      "needs_background": "light"
     },
     "output_type": "display_data"
    },
    {
     "name": "stdout",
     "output_type": "stream",
     "text": [
      "Shimmer:APQ5 Shimmer:DDA\n"
     ]
    },
    {
     "data": {
      "image/png": "[encoded data removed]",
      "text/plain": [
       "<Figure size 432x288 with 1 Axes>"
      ]
     },
     "metadata": {
      "needs_background": "light"
     },
     "output_type": "display_data"
    },
    {
     "name": "stdout",
     "output_type": "stream",
     "text": [
      "MDVP:APQ Shimmer:DDA\n"
     ]
    },
    {
     "data": {
      "image/png": "[encoded data removed]",
      "text/plain": [
       "<Figure size 432x288 with 1 Axes>"
      ]
     },
     "metadata": {
      "needs_background": "light"
     },
     "output_type": "display_data"
    }
   ],
   "source": [
    "from collaborator_3_Sarah import plot_correlation\n",
    "import itertools\n",
    "from itertools import chain, combinations\n",
    "shimmer = ['MDVP:Shimmer', 'MDVP:Shimmer(dB)', 'Shimmer:APQ3', 'Shimmer:APQ5', 'MDVP:APQ', 'Shimmer:DDA']\n",
    "jitter = ['MDVP:Jitter(Abs)', 'MDVP:RAP', 'MDVP:PPQ', 'Jitter:DDP']\n",
    "fun_freq = ['MDVP:Fo(Hz)', 'MDVP:Fhi(Hz)', 'MDVP:Flo(Hz)']\n",
    "\n",
    "plot_correlation(fun_freq, df)\n",
    "plot_correlation(jitter, df)\n",
    "plot_correlation(shimmer, df)\n"
   ]
  },
  {
   "cell_type": "code",
   "execution_count": 36,
   "id": "2b1419ae",
   "metadata": {},
   "outputs": [],
   "source": [
    "cleaned_df = df[[\"status\",\"MDVP:PPQ\", \"Jitter:DDP\",'MDVP:RAP', 'MDVP:Fo(Hz)', 'MDVP:Fhi(Hz)', 'MDVP:Flo(Hz)', 'MDVP:Shimmer', 'MDVP:Shimmer(dB)', 'Shimmer:APQ3', 'Shimmer:APQ5', 'MDVP:APQ', 'Shimmer:DDA' ]]\n"
   ]
  },
  {
   "cell_type": "code",
   "execution_count": 37,
   "id": "b90a301a",
   "metadata": {},
   "outputs": [
    {
     "data": {
      "text/html": [
       "<div>\n",
       "<style scoped>\n",
       "    .dataframe tbody tr th:only-of-type {\n",
       "        vertical-align: middle;\n",
       "    }\n",
       "\n",
       "    .dataframe tbody tr th {\n",
       "        vertical-align: top;\n",
       "    }\n",
       "\n",
       "    .dataframe thead th {\n",
       "        text-align: right;\n",
       "    }\n",
       "</style>\n",
       "<table border=\"1\" class=\"dataframe\">\n",
       "  <thead>\n",
       "    <tr style=\"text-align: right;\">\n",
       "      <th></th>\n",
       "      <th>MDVP:PPQ</th>\n",
       "      <th>Jitter:DDP</th>\n",
       "      <th>MDVP:RAP</th>\n",
       "      <th>MDVP:Fo(Hz)</th>\n",
       "      <th>MDVP:Fhi(Hz)</th>\n",
       "      <th>MDVP:Flo(Hz)</th>\n",
       "      <th>MDVP:Shimmer</th>\n",
       "      <th>MDVP:Shimmer(dB)</th>\n",
       "      <th>Shimmer:APQ3</th>\n",
       "      <th>Shimmer:APQ5</th>\n",
       "      <th>MDVP:APQ</th>\n",
       "      <th>Shimmer:DDA</th>\n",
       "    </tr>\n",
       "    <tr>\n",
       "      <th>status</th>\n",
       "      <th></th>\n",
       "      <th></th>\n",
       "      <th></th>\n",
       "      <th></th>\n",
       "      <th></th>\n",
       "      <th></th>\n",
       "      <th></th>\n",
       "      <th></th>\n",
       "      <th></th>\n",
       "      <th></th>\n",
       "      <th></th>\n",
       "      <th></th>\n",
       "    </tr>\n",
       "  </thead>\n",
       "  <tbody>\n",
       "    <tr>\n",
       "      <th>0</th>\n",
       "      <td>0.002056</td>\n",
       "      <td>0.005776</td>\n",
       "      <td>0.001925</td>\n",
       "      <td>181.937771</td>\n",
       "      <td>223.636750</td>\n",
       "      <td>145.207292</td>\n",
       "      <td>0.017615</td>\n",
       "      <td>0.162958</td>\n",
       "      <td>0.009504</td>\n",
       "      <td>0.010509</td>\n",
       "      <td>0.013305</td>\n",
       "      <td>0.028511</td>\n",
       "    </tr>\n",
       "    <tr>\n",
       "      <th>1</th>\n",
       "      <td>0.003900</td>\n",
       "      <td>0.011273</td>\n",
       "      <td>0.003757</td>\n",
       "      <td>145.180762</td>\n",
       "      <td>188.441463</td>\n",
       "      <td>106.893558</td>\n",
       "      <td>0.033658</td>\n",
       "      <td>0.321204</td>\n",
       "      <td>0.017676</td>\n",
       "      <td>0.020285</td>\n",
       "      <td>0.027600</td>\n",
       "      <td>0.053027</td>\n",
       "    </tr>\n",
       "  </tbody>\n",
       "</table>\n",
       "</div>"
      ],
      "text/plain": [
       "        MDVP:PPQ  Jitter:DDP  MDVP:RAP  MDVP:Fo(Hz)  MDVP:Fhi(Hz)  \\\n",
       "status                                                              \n",
       "0       0.002056    0.005776  0.001925   181.937771    223.636750   \n",
       "1       0.003900    0.011273  0.003757   145.180762    188.441463   \n",
       "\n",
       "        MDVP:Flo(Hz)  MDVP:Shimmer  MDVP:Shimmer(dB)  Shimmer:APQ3  \\\n",
       "status                                                               \n",
       "0         145.207292      0.017615          0.162958      0.009504   \n",
       "1         106.893558      0.033658          0.321204      0.017676   \n",
       "\n",
       "        Shimmer:APQ5  MDVP:APQ  Shimmer:DDA  \n",
       "status                                       \n",
       "0           0.010509  0.013305     0.028511  \n",
       "1           0.020285  0.027600     0.053027  "
      ]
     },
     "execution_count": 37,
     "metadata": {},
     "output_type": "execute_result"
    }
   ],
   "source": [
    "agg_df = group_and_average(cleaned_df, \"subject_id\" )\n",
    "agg_df"
   ]
  },
  {
   "cell_type": "markdown",
   "id": "6f6812e2",
   "metadata": {},
   "source": [
    "### 4. Differentiating between controls (healthy subjects) and patients"
   ]
  },
  {
   "cell_type": "code",
   "execution_count": 41,
   "id": "43559e63",
   "metadata": {},
   "outputs": [
    {
     "ename": "ValueError",
     "evalue": "'0' is not a supported norm",
     "output_type": "error",
     "traceback": [
      "\u001b[0;31m---------------------------------------------------------------------------\u001b[0m",
      "\u001b[0;31mValueError\u001b[0m                                Traceback (most recent call last)",
      "\u001b[0;32m<ipython-input-41-e09541bb6936>\u001b[0m in \u001b[0;36m<module>\u001b[0;34m\u001b[0m\n\u001b[1;32m      2\u001b[0m \u001b[0;32mfrom\u001b[0m \u001b[0msklearn\u001b[0m\u001b[0;34m.\u001b[0m\u001b[0mpreprocessing\u001b[0m \u001b[0;32mimport\u001b[0m \u001b[0;34m*\u001b[0m\u001b[0;34m\u001b[0m\u001b[0;34m\u001b[0m\u001b[0m\n\u001b[1;32m      3\u001b[0m \u001b[0;34m\u001b[0m\u001b[0m\n\u001b[0;32m----> 4\u001b[0;31m \u001b[0mdf_znorm\u001b[0m \u001b[0;34m=\u001b[0m \u001b[0mnormalize\u001b[0m\u001b[0;34m(\u001b[0m\u001b[0mcleaned_df\u001b[0m\u001b[0;34m,\u001b[0m \u001b[0;36m0\u001b[0m\u001b[0;34m)\u001b[0m\u001b[0;34m\u001b[0m\u001b[0;34m\u001b[0m\u001b[0m\n\u001b[0m\u001b[1;32m      5\u001b[0m \u001b[0mdf_znorm\u001b[0m\u001b[0;34m.\u001b[0m\u001b[0mhead\u001b[0m\u001b[0;34m(\u001b[0m\u001b[0;34m)\u001b[0m\u001b[0;34m\u001b[0m\u001b[0;34m\u001b[0m\u001b[0m\n\u001b[1;32m      6\u001b[0m \u001b[0;34m\u001b[0m\u001b[0m\n",
      "\u001b[0;32m~/anaconda3/lib/python3.7/site-packages/sklearn/preprocessing/_data.py\u001b[0m in \u001b[0;36mnormalize\u001b[0;34m(X, norm, axis, copy, return_norm)\u001b[0m\n\u001b[1;32m   1693\u001b[0m     \"\"\"\n\u001b[1;32m   1694\u001b[0m     \u001b[0;32mif\u001b[0m \u001b[0mnorm\u001b[0m \u001b[0;32mnot\u001b[0m \u001b[0;32min\u001b[0m \u001b[0;34m(\u001b[0m\u001b[0;34m'l1'\u001b[0m\u001b[0;34m,\u001b[0m \u001b[0;34m'l2'\u001b[0m\u001b[0;34m,\u001b[0m \u001b[0;34m'max'\u001b[0m\u001b[0;34m)\u001b[0m\u001b[0;34m:\u001b[0m\u001b[0;34m\u001b[0m\u001b[0;34m\u001b[0m\u001b[0m\n\u001b[0;32m-> 1695\u001b[0;31m         \u001b[0;32mraise\u001b[0m \u001b[0mValueError\u001b[0m\u001b[0;34m(\u001b[0m\u001b[0;34m\"'%s' is not a supported norm\"\u001b[0m \u001b[0;34m%\u001b[0m \u001b[0mnorm\u001b[0m\u001b[0;34m)\u001b[0m\u001b[0;34m\u001b[0m\u001b[0;34m\u001b[0m\u001b[0m\n\u001b[0m\u001b[1;32m   1696\u001b[0m \u001b[0;34m\u001b[0m\u001b[0m\n\u001b[1;32m   1697\u001b[0m     \u001b[0;32mif\u001b[0m \u001b[0maxis\u001b[0m \u001b[0;34m==\u001b[0m \u001b[0;36m0\u001b[0m\u001b[0;34m:\u001b[0m\u001b[0;34m\u001b[0m\u001b[0;34m\u001b[0m\u001b[0m\n",
      "\u001b[0;31mValueError\u001b[0m: '0' is not a supported norm"
     ]
    }
   ],
   "source": [
    "from colaborator_two_anton import normalize\n",
    "from sklearn.preprocessing import *\n",
    "\n",
    "df_znorm = normalize(agg_df, 0)\n",
    "df_znorm.head()\n",
    "\n",
    "df_mmnorm = normalize(agg_df, 1)\n",
    "df_mmnorm.head()"
   ]
  },
  {
   "cell_type": "code",
   "execution_count": 33,
   "id": "fbc4d8de",
   "metadata": {},
   "outputs": [
    {
     "ename": "NameError",
     "evalue": "name 'df_mmnorm' is not defined",
     "output_type": "error",
     "traceback": [
      "\u001b[0;31m---------------------------------------------------------------------------\u001b[0m",
      "\u001b[0;31mNameError\u001b[0m                                 Traceback (most recent call last)",
      "\u001b[0;32m<ipython-input-33-292284730633>\u001b[0m in \u001b[0;36m<module>\u001b[0;34m\u001b[0m\n\u001b[1;32m      4\u001b[0m \u001b[0;32mfrom\u001b[0m \u001b[0mcollaborator_3_Sarah\u001b[0m \u001b[0;32mimport\u001b[0m \u001b[0;34m*\u001b[0m\u001b[0;34m\u001b[0m\u001b[0;34m\u001b[0m\u001b[0m\n\u001b[1;32m      5\u001b[0m \u001b[0;34m\u001b[0m\u001b[0m\n\u001b[0;32m----> 6\u001b[0;31m \u001b[0mknn_classification\u001b[0m\u001b[0;34m(\u001b[0m\u001b[0mdf_mmnorm\u001b[0m\u001b[0;34m)\u001b[0m\u001b[0;34m\u001b[0m\u001b[0;34m\u001b[0m\u001b[0m\n\u001b[0m",
      "\u001b[0;31mNameError\u001b[0m: name 'df_mmnorm' is not defined"
     ]
    }
   ],
   "source": [
    "from sklearn.model_selection import train_test_split\n",
    "from sklearn.neighbors import KNeighborsClassifier\n",
    "from sklearn.metrics import accuracy_score\n",
    "from collaborator_3_Sarah import *\n",
    "\n",
    "knn_classification(df_mmnorm)\n"
   ]
  },
  {
   "cell_type": "code",
   "execution_count": null,
   "id": "f8fa157e",
   "metadata": {},
   "outputs": [],
   "source": [
    "knn_classification(df_znorm)"
   ]
  },
  {
   "cell_type": "code",
   "execution_count": null,
   "id": "9395be7b",
   "metadata": {},
   "outputs": [],
   "source": [
    "knn_classification(cleaned_df)"
   ]
  },
  {
   "cell_type": "code",
   "execution_count": null,
   "id": "2f9e1487",
   "metadata": {},
   "outputs": [],
   "source": [
    "# The result from the max-min normalization and the z-score normalization are very similar to each other and both show the best result\n",
    "# compared to the un-normalized one. The accuracy scores from the normalized dataframes are significantly higher as well. "
   ]
  }
 ],
 "metadata": {
  "kernelspec": {
   "display_name": "Python 3 (ipykernel)",
   "language": "python",
   "name": "python3"
  },
  "language_info": {
   "codemirror_mode": {
    "name": "ipython",
    "version": 3
   },
   "file_extension": ".py",
   "mimetype": "text/x-python",
   "name": "python",
   "nbconvert_exporter": "python",
   "pygments_lexer": "ipython3",
   "version": "3.11.5"
  }
 },
 "nbformat": 4,
 "nbformat_minor": 5
}
