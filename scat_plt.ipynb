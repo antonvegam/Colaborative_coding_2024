{
 "cells": [
  {
   "cell_type": "code",
   "execution_count": null,
   "id": "70448c70-a9b4-49cf-858f-daa5db2d859d",
   "metadata": {},
   "outputs": [],
   "source": [
    "'''\n",
    "Function scat_plt (var1, var2, groups)\n",
    "Given the variables var1 and var2, creates a scatterplot of the two variables, displaying\n",
    "the information given on groups using different colors(or symbols). That is, observations\n",
    "belonging to a given group 1 will be displayed on a given color, observations belonging\n",
    "to group 2 will be displayed with a different color and so on. var1 is displayed in the xaxis and var2 in the y-axis. The obtained plot should contain a legend displaying the\n",
    "information regarding to groups\n",
    "Inputs:\n",
    "var1 and var2: Two given variables of the same length\n",
    "groups: A variable the same size as var1 and var2 where the information regarding to\n",
    "group belonging is contained.\n",
    "\n",
    "'''\n",
    "def scat_plt(var1, var2, groups):\n",
    "    df = pd.DataFrame({\n",
    "        'var1': var1,\n",
    "        'var2': var2,\n",
    "        'groups': groups\n",
    "    })\n",
    "    unique_groups = df['groups'].unique()\n",
    "    for group in unique_groups:\n",
    "        plt.scatter(df[df['groups'] == group]['var1'], df[df['groups'] == group]['var2'], label=group)\n",
    "    plt.show()\n",
    "\n",
    "#Example\n",
    "'''\n",
    "data = pd.read_csv('parkinsons.data')\n",
    "\n",
    "scat_plt(data['MDVP:Fo(Hz)'], data['MDVP:Fhi(Hz)'], data['status'])\n"
   ]
  }
 ],
 "metadata": {
  "kernelspec": {
   "display_name": "Python 3 (ipykernel)",
   "language": "python",
   "name": "python3"
  },
  "language_info": {
   "codemirror_mode": {
    "name": "ipython",
    "version": 3
   },
   "file_extension": ".py",
   "mimetype": "text/x-python",
   "name": "python",
   "nbconvert_exporter": "python",
   "pygments_lexer": "ipython3",
   "version": "3.11.4"
  }
 },
 "nbformat": 4,
 "nbformat_minor": 5
}
