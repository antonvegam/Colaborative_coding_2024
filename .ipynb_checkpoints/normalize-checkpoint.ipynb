{
 "cells": [
  {
   "cell_type": "code",
   "execution_count": null,
   "id": "bbc195d9-5025-4f5c-a7e2-4d8b83519d7e",
   "metadata": {},
   "outputs": [],
   "source": [
    "'''\n",
    "Function normalize (df, op)\n",
    "Given a dataframe df, normalizes all variables according to the optionsin op. op can only\n",
    "take two values, 0 for normalizing the variables based on the z-score and 1 for\n",
    "normalizing the variables based on the min_max approach. The function returns a\n",
    "dataframe consisting on normalized variables.\n",
    "Be aware of avoiding normalizing variables that are supposed to be categorical, even if\n",
    "the type of such variables is not specifically categorical (that is, a variable can be of type\n",
    "numerical even when it represents categories)\n",
    "Inputs:\n",
    "df: A given dataframe\n",
    "op: numeric variable (either 0 or 1)\n",
    "Output\n",
    "norm_df: normalized dataframe\n",
    "\n",
    "'''\n",
    "\n",
    "def normalize(df, op):\n",
    "    num_cols = df.select_dtypes(include=['int64', 'float64']).columns\n",
    "\n",
    "    if op == 0:\n",
    "        scaler = StandardScaler()\n",
    "    elif op == 1:\n",
    "        scaler = MinMaxScaler()\n",
    "    df[num_cols] = scaler.fit_transform(df[num_cols])\n",
    "    return df"
   ]
  }
 ],
 "metadata": {
  "kernelspec": {
   "display_name": "Python 3 (ipykernel)",
   "language": "python",
   "name": "python3"
  },
  "language_info": {
   "codemirror_mode": {
    "name": "ipython",
    "version": 3
   },
   "file_extension": ".py",
   "mimetype": "text/x-python",
   "name": "python",
   "nbconvert_exporter": "python",
   "pygments_lexer": "ipython3",
   "version": "3.11.4"
  }
 },
 "nbformat": 4,
 "nbformat_minor": 5
}
